{
 "cells": [
  {
   "cell_type": "code",
   "execution_count": 1,
   "id": "ed5301f3-3b74-4121-aebf-827542362c3d",
   "metadata": {},
   "outputs": [],
   "source": [
    "import numpy as np"
   ]
  },
  {
   "cell_type": "code",
   "execution_count": 4,
   "id": "03276ac9-ee27-46f2-a826-1b4146376ae1",
   "metadata": {},
   "outputs": [
    {
     "data": {
      "text/plain": [
       "1"
      ]
     },
     "execution_count": 4,
     "metadata": {},
     "output_type": "execute_result"
    }
   ],
   "source": [
    "y=np.array([1,2,3,4,5])\n",
    "y.ndim #tp find out dimension "
   ]
  },
  {
   "cell_type": "code",
   "execution_count": 7,
   "id": "d68e2b13-8691-45a9-a28f-9ecde7fd2a2c",
   "metadata": {},
   "outputs": [
    {
     "data": {
      "text/plain": [
       "array([[1, 2, 3, 4, 5],\n",
       "       [1, 2, 3, 4, 5]])"
      ]
     },
     "execution_count": 7,
     "metadata": {},
     "output_type": "execute_result"
    }
   ],
   "source": [
    "y = np.array([[1,2,3,4,5],[1,2,3,4,5]])\n",
    "y"
   ]
  },
  {
   "cell_type": "code",
   "execution_count": 11,
   "id": "7ea688d7-57a6-43be-bb03-60bd96e611e2",
   "metadata": {},
   "outputs": [
    {
     "data": {
      "text/plain": [
       "10"
      ]
     },
     "execution_count": 11,
     "metadata": {},
     "output_type": "execute_result"
    }
   ],
   "source": [
    "x=np.array([1,2,3,4,5],ndmin=10) #used to set the dimension of an array \n",
    "x.ndim"
   ]
  },
  {
   "cell_type": "code",
   "execution_count": 12,
   "id": "3cc40abe-ccf7-44b2-9188-e23baf9a3860",
   "metadata": {},
   "outputs": [
    {
     "data": {
      "text/plain": [
       "array([0., 0., 0., 0.])"
      ]
     },
     "execution_count": 12,
     "metadata": {},
     "output_type": "execute_result"
    }
   ],
   "source": [
    "#zeros \n",
    "x=np.zeros(4)\n",
    "x"
   ]
  },
  {
   "cell_type": "code",
   "execution_count": 15,
   "id": "54a84031-b4db-4c47-90cf-7a69b2e9d8ef",
   "metadata": {},
   "outputs": [
    {
     "data": {
      "text/plain": [
       "array([[1., 1.],\n",
       "       [1., 1.]])"
      ]
     },
     "execution_count": 15,
     "metadata": {},
     "output_type": "execute_result"
    }
   ],
   "source": [
    "x= np.ones((2,2))\n",
    "x"
   ]
  },
  {
   "cell_type": "code",
   "execution_count": 17,
   "id": "20ac1988-1b76-475e-9a2d-92c5c8683954",
   "metadata": {},
   "outputs": [
    {
     "data": {
      "text/plain": [
       "array([1., 1., 1., 1.])"
      ]
     },
     "execution_count": 17,
     "metadata": {},
     "output_type": "execute_result"
    }
   ],
   "source": [
    "x=np.empty(4)\n",
    "x"
   ]
  },
  {
   "cell_type": "code",
   "execution_count": 21,
   "id": "8a341857-7a04-4881-8ae5-eba5adda6541",
   "metadata": {},
   "outputs": [
    {
     "data": {
      "text/plain": [
       "array([0, 1, 2, 3, 4, 5, 6, 7, 8])"
      ]
     },
     "execution_count": 21,
     "metadata": {},
     "output_type": "execute_result"
    }
   ],
   "source": [
    "a = np.arange(9)\n",
    "a"
   ]
  },
  {
   "cell_type": "code",
   "execution_count": 22,
   "id": "44789767-46c5-4941-9bbc-5189715e0614",
   "metadata": {},
   "outputs": [
    {
     "data": {
      "text/plain": [
       "array([[1., 0., 0.],\n",
       "       [0., 1., 0.],\n",
       "       [0., 0., 1.]])"
      ]
     },
     "execution_count": 22,
     "metadata": {},
     "output_type": "execute_result"
    }
   ],
   "source": [
    "y=np.eye(3)\n",
    "y"
   ]
  },
  {
   "cell_type": "code",
   "execution_count": 23,
   "id": "8530ee71-2f77-47d5-9830-b25d3e60d39d",
   "metadata": {},
   "outputs": [
    {
     "data": {
      "text/plain": [
       "array([ 2.        ,  6.88888889, 11.77777778, 16.66666667, 21.55555556,\n",
       "       26.44444444, 31.33333333, 36.22222222, 41.11111111, 46.        ,\n",
       "       50.88888889, 55.77777778, 60.66666667, 65.55555556, 70.44444444,\n",
       "       75.33333333, 80.22222222, 85.11111111, 90.        ])"
      ]
     },
     "execution_count": 23,
     "metadata": {},
     "output_type": "execute_result"
    }
   ],
   "source": [
    "b=np.linspace(2,90,19)\n",
    "b"
   ]
  },
  {
   "cell_type": "code",
   "execution_count": 26,
   "id": "0452dcf7-8115-4258-a36c-8f398650818c",
   "metadata": {},
   "outputs": [
    {
     "data": {
      "text/plain": [
       "array([0.43499218, 0.73606842, 0.94302686])"
      ]
     },
     "execution_count": 26,
     "metadata": {},
     "output_type": "execute_result"
    }
   ],
   "source": [
    "#RANDOM\n",
    "var = np.random.rand(3)\n",
    "var"
   ]
  },
  {
   "cell_type": "code",
   "execution_count": 28,
   "id": "2c8230c3-88ac-40e6-bc3d-a30cf2a15f71",
   "metadata": {},
   "outputs": [
    {
     "data": {
      "text/plain": [
       "array([[ 1.0448782 ,  1.36470025,  0.33491811, -0.38080543],\n",
       "       [ 1.56691099,  1.4399358 , -1.12321438,  0.85265532]])"
      ]
     },
     "execution_count": 28,
     "metadata": {},
     "output_type": "execute_result"
    }
   ],
   "source": [
    " var = np.random.randn(2,4)\n",
    "var"
   ]
  },
  {
   "cell_type": "code",
   "execution_count": 97,
   "id": "0381e973-df8a-4a8e-83bb-07bfdbd005b6",
   "metadata": {},
   "outputs": [
    {
     "data": {
      "text/plain": [
       "array([0.84687521, 0.71280201, 0.39582698, 0.29801742])"
      ]
     },
     "execution_count": 97,
     "metadata": {},
     "output_type": "execute_result"
    }
   ],
   "source": [
    "var = np.random.ranf(4)\n",
    "var"
   ]
  },
  {
   "cell_type": "code",
   "execution_count": 34,
   "id": "4fff9ccc-9b6a-4cbc-973a-875c96dd1edf",
   "metadata": {},
   "outputs": [
    {
     "data": {
      "text/plain": [
       "array([1, 5, 6, 5, 6])"
      ]
     },
     "execution_count": 34,
     "metadata": {},
     "output_type": "execute_result"
    }
   ],
   "source": [
    "var = np.random.randint(1,9,5)\n",
    "var"
   ]
  },
  {
   "cell_type": "code",
   "execution_count": 44,
   "id": "ccafaa2f-d821-4491-8da3-4fbb43a3fa5e",
   "metadata": {},
   "outputs": [
    {
     "name": "stdout",
     "output_type": "stream",
     "text": [
      "<U11\n"
     ]
    },
    {
     "data": {
      "text/plain": [
       "array(['1', '2', '3', '4', '5', '6', '7', 'A', 'B', 'C'], dtype='<U11')"
      ]
     },
     "execution_count": 44,
     "metadata": {},
     "output_type": "execute_result"
    }
   ],
   "source": [
    "#DATA TYPE \n",
    "a = np.array([1,2,3,4,5,6,7,\"A\",\"B\",\"C\"])\n",
    "print(a.dtype)\n",
    "a"
   ]
  },
  {
   "cell_type": "code",
   "execution_count": 43,
   "id": "d2855b49-726c-4920-bcc5-c5ebff4d0509",
   "metadata": {},
   "outputs": [
    {
     "name": "stdout",
     "output_type": "stream",
     "text": [
      "float32\n"
     ]
    },
    {
     "data": {
      "text/plain": [
       "array([1., 2., 3., 4., 5., 6., 7.], dtype=float32)"
      ]
     },
     "execution_count": 43,
     "metadata": {},
     "output_type": "execute_result"
    }
   ],
   "source": [
    "a = np.array([1,2,3,4,5,6,7],dtype ='f')\n",
    "print(a.dtype)\n",
    "a"
   ]
  },
  {
   "cell_type": "code",
   "execution_count": 47,
   "id": "9c1aecf7-45a2-4dc7-ae62-2cee8111db3c",
   "metadata": {},
   "outputs": [
    {
     "data": {
      "text/plain": [
       "dtype('int32')"
      ]
     },
     "execution_count": 47,
     "metadata": {},
     "output_type": "execute_result"
    }
   ],
   "source": [
    "a = np.array([1,2,3,4,5])\n",
    "b=a.astype(int)\n",
    "b.dtype"
   ]
  },
  {
   "cell_type": "code",
   "execution_count": 54,
   "id": "95b78dcf-7cca-4bcd-b633-d17e880d4ef3",
   "metadata": {},
   "outputs": [
    {
     "name": "stdout",
     "output_type": "stream",
     "text": [
      "[[1 2 3 4]\n",
      " [5 6 7 8]]\n",
      "\n",
      "(2, 4)\n"
     ]
    }
   ],
   "source": [
    "#SHAPE\n",
    "a=np.array([[1,2,3,4],[5,6,7,8]])\n",
    "print(a)\n",
    "print()\n",
    "print(a.shape)"
   ]
  },
  {
   "cell_type": "code",
   "execution_count": 64,
   "id": "1015d2ee-4faf-44a6-bc6b-5e1627d13b29",
   "metadata": {},
   "outputs": [
    {
     "name": "stdout",
     "output_type": "stream",
     "text": [
      "1\n",
      "[[ 1  2  3]\n",
      " [ 4  5  6]\n",
      " [ 7  8  9]\n",
      " [10 11 12]]\n",
      "2\n",
      "[[[ 1  2]\n",
      "  [ 3  4]\n",
      "  [ 5  6]]\n",
      "\n",
      " [[ 7  8]\n",
      "  [ 9 10]\n",
      "  [11 12]]]\n"
     ]
    },
    {
     "data": {
      "text/plain": [
       "3"
      ]
     },
     "execution_count": 64,
     "metadata": {},
     "output_type": "execute_result"
    }
   ],
   "source": [
    "#RESHAPE\n",
    "var = np.array([1,2,3,4,5,6,7,8,9,10,11,12])\n",
    "print(var.ndim)\n",
    "y=var.reshape(2,3,2)\n",
    "v=var.reshape(4,3)\n",
    "print(v)\n",
    "print(v.ndim)\n",
    "print(y)\n",
    "y.ndim"
   ]
  },
  {
   "cell_type": "code",
   "execution_count": 66,
   "id": "f8369e16-ae9c-4a63-b04e-28800226ac26",
   "metadata": {},
   "outputs": [
    {
     "name": "stdout",
     "output_type": "stream",
     "text": [
      "1\n",
      "[[ 1  2  3]\n",
      " [ 4  5  6]\n",
      " [ 7  8  9]\n",
      " [10 11 12]]\n",
      "2\n",
      "[[[ 1  2]\n",
      "  [ 3  4]\n",
      "  [ 5  6]]\n",
      "\n",
      " [[ 7  8]\n",
      "  [ 9 10]\n",
      "  [11 12]]]\n",
      "\n",
      "[ 1  2  3  4  5  6  7  8  9 10 11 12]\n",
      "1\n"
     ]
    }
   ],
   "source": [
    "var = np.array([1,2,3,4,5,6,7,8,9,10,11,12])\n",
    "print(var.ndim)\n",
    "y=var.reshape(2,3,2)\n",
    "v=var.reshape(4,3)\n",
    "print(v)\n",
    "print(v.ndim)\n",
    "print(y)\n",
    "y.ndim\n",
    "print()\n",
    "\n",
    "#reshaping into 1 dimension\n",
    "b=y.reshape(-1)\n",
    "print(b)\n",
    "print(b.ndim)"
   ]
  },
  {
   "cell_type": "code",
   "execution_count": 73,
   "id": "63a14ec6-c7bc-4881-a755-4470186ff75c",
   "metadata": {},
   "outputs": [
    {
     "data": {
      "text/plain": [
       "array([2, 4, 6, 8])"
      ]
     },
     "execution_count": 73,
     "metadata": {},
     "output_type": "execute_result"
    }
   ],
   "source": [
    "#ARITHMETIC\n",
    "var = np.array([1,2,3,4])\n",
    "var1 = np.array([1,2,3,4])\n",
    "varadd = np.add(var,var1)\n",
    "varadd"
   ]
  },
  {
   "cell_type": "code",
   "execution_count": 74,
   "id": "170556b9-2024-4e64-ab1a-2caf629a7ed5",
   "metadata": {},
   "outputs": [
    {
     "data": {
      "text/plain": [
       "array([-8, -7, -6, -5])"
      ]
     },
     "execution_count": 74,
     "metadata": {},
     "output_type": "execute_result"
    }
   ],
   "source": [
    "var = np.array([1,2,3,4])\n",
    "var1 = np.array([1,2,3,4])\n",
    "varadd = np.subtract(var,9)\n",
    "varadd"
   ]
  },
  {
   "cell_type": "code",
   "execution_count": 77,
   "id": "c7e223c6-7999-4957-be4b-29601309ceac",
   "metadata": {},
   "outputs": [
    {
     "data": {
      "text/plain": [
       "array([1, 2, 0, 1], dtype=int32)"
      ]
     },
     "execution_count": 77,
     "metadata": {},
     "output_type": "execute_result"
    }
   ],
   "source": [
    "var = np.array([1,2,3,4])\n",
    "var1 = np.array([1,2,3,4])\n",
    "varadd = np.mod(var,3)\n",
    "varadd"
   ]
  },
  {
   "cell_type": "code",
   "execution_count": 78,
   "id": "d44da34d-684b-4579-9108-2097aa1473f2",
   "metadata": {},
   "outputs": [
    {
     "data": {
      "text/plain": [
       "array([1, 0, 0, 0])"
      ]
     },
     "execution_count": 78,
     "metadata": {},
     "output_type": "execute_result"
    }
   ],
   "source": [
    "var = np.array([1,2,3,4])\n",
    "var1 = np.array([1,2,3,4])\n",
    "varadd = np.reciprocal(var)\n",
    "varadd"
   ]
  },
  {
   "cell_type": "code",
   "execution_count": 79,
   "id": "b15b8f06-b618-4dd8-bee9-abb9190c8da3",
   "metadata": {},
   "outputs": [
    {
     "data": {
      "text/plain": [
       "array([[ 2,  4,  6,  8],\n",
       "       [10, 12, 14, 16]])"
      ]
     },
     "execution_count": 79,
     "metadata": {},
     "output_type": "execute_result"
    }
   ],
   "source": [
    "var = np.array([[1,2,3,4],[5,6,7,8]])\n",
    "var1 = np.array([[1,2,3,4],[5,6,7,8]])\n",
    "# var1 = np.array([1,2,3,4])\n",
    "varadd = np.add(var,var1)\n",
    "varadd"
   ]
  },
  {
   "cell_type": "code",
   "execution_count": 84,
   "id": "bc132a1f-602b-4d23-aebe-c1b669a8c3fa",
   "metadata": {},
   "outputs": [
    {
     "name": "stdout",
     "output_type": "stream",
     "text": [
      "2 7\n",
      "9 0\n"
     ]
    }
   ],
   "source": [
    "var = np.array([[9,8,7,6,5,4,3,2]])\n",
    "print(var.min(),var.argmin())\n",
    "print(var.max(),var.argmax())"
   ]
  },
  {
   "cell_type": "code",
   "execution_count": 94,
   "id": "c66a4072-fc56-4fee-bf73-9706fd2cf460",
   "metadata": {},
   "outputs": [
    {
     "name": "stdout",
     "output_type": "stream",
     "text": [
      "[5 4 3 2]\n",
      "[6 2]\n",
      "[9 8 7 6]\n",
      "[9 5]\n",
      "[[3.         2.82842712 2.64575131 2.44948974]\n",
      " [2.23606798 2.         1.73205081 1.41421356]]\n"
     ]
    }
   ],
   "source": [
    "var = np.array([[9,8,7,6],[5,4,3,2]])\n",
    "print(np.min(var,axis=0)) #0 for column-wise 1 for row-wise\n",
    "print(np.min(var,axis=1))\n",
    "print(np.max(var,axis=0))\n",
    "print(np.max(var,axis=1))\n",
    "print(np.sqrt(var))"
   ]
  },
  {
   "cell_type": "code",
   "execution_count": 95,
   "id": "c823dd13-195c-409e-9e3b-8ff71e6bae0c",
   "metadata": {},
   "outputs": [
    {
     "name": "stdout",
     "output_type": "stream",
     "text": [
      "[0.84147098 0.90929743 0.14112001]\n",
      "[ 0.54030231 -0.41614684 -0.9899925 ]\n",
      "[1 3 6]\n"
     ]
    }
   ],
   "source": [
    "var = np.array([1,2,3])\n",
    "print(np.sin(var))\n",
    "print(np.cos(var))\n",
    "print(np.cumsum(var))"
   ]
  },
  {
   "cell_type": "code",
   "execution_count": 99,
   "id": "ec4f53f3-d257-4341-8547-f1125095eb2f",
   "metadata": {},
   "outputs": [
    {
     "name": "stdout",
     "output_type": "stream",
     "text": [
      "[5 7]\n"
     ]
    }
   ],
   "source": [
    "#BROADCASTING ERROR\n",
    "x=np.array([1,2])\n",
    "y=np.array([4,5])\n",
    "print(x+y)"
   ]
  },
  {
   "cell_type": "code",
   "execution_count": 102,
   "id": "e0827da6-9cb0-4b4b-a3cb-8e765b1a87c8",
   "metadata": {},
   "outputs": [
    {
     "name": "stdout",
     "output_type": "stream",
     "text": [
      "6\n"
     ]
    }
   ],
   "source": [
    "var = np.array([[9,8,7,6],[5,4,3,2]])\n",
    "\n",
    "print(var[0,3])"
   ]
  },
  {
   "cell_type": "code",
   "execution_count": 108,
   "id": "f1e5896e-06e4-444b-82cd-161d6e53b73e",
   "metadata": {},
   "outputs": [
    {
     "name": "stdout",
     "output_type": "stream",
     "text": [
      "[[[9 8 7 6]\n",
      "  [5 4 3 2]]\n",
      "\n",
      " [[0 9 8 7]\n",
      "  [1 2 3 4]]]\n",
      "3\n"
     ]
    }
   ],
   "source": [
    "var = np.array([[[9,8,7,6],[5,4,3,2]],\n",
    "                [[0,9,8,7],[1,2,3,4]]])\n",
    "print(var)\n",
    "print(var[1,1,2])"
   ]
  },
  {
   "cell_type": "markdown",
   "id": "a995df5f-d2a7-4f2c-a989-1b2f146d1965",
   "metadata": {
    "jp-MarkdownHeadingCollapsed": true
   },
   "source": [
    "            #slicing \n",
    "            "
   ]
  },
  {
   "cell_type": "code",
   "execution_count": 110,
   "id": "e529dfd9-2d7c-48f1-91fe-f00db1410590",
   "metadata": {},
   "outputs": [
    {
     "name": "stdout",
     "output_type": "stream",
     "text": [
      "[2 3 4]\n"
     ]
    }
   ],
   "source": [
    "var = np.array([1,2,3,4,5])\n",
    "print(var[1:4])"
   ]
  },
  {
   "cell_type": "code",
   "execution_count": 111,
   "id": "748e2c59-cf0e-46bd-bd0a-c7d08b5b9609",
   "metadata": {},
   "outputs": [
    {
     "name": "stdout",
     "output_type": "stream",
     "text": [
      "[8 7 6]\n"
     ]
    }
   ],
   "source": [
    "var = np.array([[9,8,7,6],[5,4,3,2]])\n",
    "print(var[0,1:])"
   ]
  },
  {
   "cell_type": "code",
   "execution_count": 113,
   "id": "2bb87a76-95c0-44ab-8e8e-e48d33c3a5e5",
   "metadata": {},
   "outputs": [
    {
     "name": "stdout",
     "output_type": "stream",
     "text": [
      "[[[9 8 7 6]\n",
      "  [5 4 3 2]]\n",
      "\n",
      " [[0 9 8 7]\n",
      "  [1 2 3 4]]]\n",
      "[4 3 2]\n"
     ]
    }
   ],
   "source": [
    "var = np.array([[[9,8,7,6],[5,4,3,2]],\n",
    "                [[0,9,8,7],[1,2,3,4]]])\n",
    "print(var)\n",
    "print(var[0,1,1:])"
   ]
  },
  {
   "cell_type": "code",
   "execution_count": 114,
   "id": "eb207cd7-53fb-4ea0-9d5f-497d404867e5",
   "metadata": {},
   "outputs": [
    {
     "name": "stdout",
     "output_type": "stream",
     "text": [
      "1\n",
      "2\n",
      "3\n",
      "4\n",
      "5\n",
      "6\n",
      "7\n"
     ]
    }
   ],
   "source": [
    "x= np.array([1,2,3,4,5,6,7])\n",
    "for i in x:\n",
    "    print(i)"
   ]
  },
  {
   "cell_type": "code",
   "execution_count": 117,
   "id": "0a1d5d3d-5bfb-4595-b00e-e315e15a9979",
   "metadata": {},
   "outputs": [
    {
     "name": "stdout",
     "output_type": "stream",
     "text": [
      "[1 2 3 4]\n",
      "[5 6 7 8]\n",
      "\n",
      "1\n",
      "2\n",
      "3\n",
      "4\n",
      "5\n",
      "6\n",
      "7\n",
      "8\n"
     ]
    }
   ],
   "source": [
    "b = np.array([[1,2,3,4],[5,6,7,8]])\n",
    "for i in b:\n",
    "    print(i)\n",
    "\n",
    "print()\n",
    "\n",
    "for i in b:\n",
    "    # print(i)\n",
    "    for z in i :\n",
    "        print(z)"
   ]
  },
  {
   "cell_type": "code",
   "execution_count": 124,
   "id": "76f39a1d-f2ff-4ea4-8ebd-8fe7b8978d33",
   "metadata": {},
   "outputs": [
    {
     "name": "stdout",
     "output_type": "stream",
     "text": [
      "9\n",
      "8\n",
      "7\n",
      "6\n",
      "5\n",
      "4\n",
      "3\n",
      "2\n",
      "0\n",
      "9\n",
      "8\n",
      "7\n",
      "1\n",
      "2\n",
      "3\n",
      "4\n",
      "\n",
      "((0, 0, 0), 9)\n",
      "((0, 0, 1), 8)\n",
      "((0, 0, 2), 7)\n",
      "((0, 0, 3), 6)\n",
      "((0, 1, 0), 5)\n",
      "((0, 1, 1), 4)\n",
      "((0, 1, 2), 3)\n",
      "((0, 1, 3), 2)\n",
      "((1, 0, 0), 0)\n",
      "((1, 0, 1), 9)\n",
      "((1, 0, 2), 8)\n",
      "((1, 0, 3), 7)\n",
      "((1, 1, 0), 1)\n",
      "((1, 1, 1), 2)\n",
      "((1, 1, 2), 3)\n",
      "((1, 1, 3), 4)\n"
     ]
    }
   ],
   "source": [
    "var = np.array([[[9,8,7,6],[5,4,3,2]],\n",
    "                [[0,9,8,7],[1,2,3,4]]])\n",
    "\n",
    "# for a in var :\n",
    "#     for b in a :\n",
    "#         for c in b:\n",
    "#             print(c) \n",
    "\n",
    "for i in np.nditer(var):\n",
    "    print(i)\n",
    "\n",
    "print()\n",
    "\n",
    "for i in np.ndenumerate(var):\n",
    "    print(i)"
   ]
  },
  {
   "cell_type": "code",
   "execution_count": 128,
   "id": "4ba86df2-1801-4d83-98cf-77701dd44b97",
   "metadata": {},
   "outputs": [
    {
     "name": "stdout",
     "output_type": "stream",
     "text": [
      "[[9 8 7 6]\n",
      " [5 4 3 2]]\n"
     ]
    },
    {
     "data": {
      "text/plain": [
       "array([[9, 8, 7, 6],\n",
       "       [5, 4, 3, 2]])"
      ]
     },
     "execution_count": 128,
     "metadata": {},
     "output_type": "execute_result"
    }
   ],
   "source": [
    "var = np.array([[9,8,7,6],[5,4,3,2]])\n",
    "\n",
    "v = var.copy()\n",
    "y = var.view()\n",
    "print(y)\n",
    "v"
   ]
  },
  {
   "cell_type": "code",
   "execution_count": 130,
   "id": "e5467827-573e-4a2a-8d7e-09683b7b0be3",
   "metadata": {},
   "outputs": [
    {
     "data": {
      "text/plain": [
       "array([1, 5, 8, 4, 2, 5, 8, 2])"
      ]
     },
     "execution_count": 130,
     "metadata": {},
     "output_type": "execute_result"
    }
   ],
   "source": [
    "x = [1,5,8,4]\n",
    "y=[2,5,8,2]\n",
    "\n",
    "z=np.concatenate((x,y))\n",
    "z"
   ]
  },
  {
   "cell_type": "code",
   "execution_count": 131,
   "id": "5f68cd1d-aa0c-4fcf-8228-e83fe78e9e12",
   "metadata": {},
   "outputs": [
    {
     "data": {
      "text/plain": [
       "array([ 1,  2,  2,  4,  4,  4,  5,  7,  8, 75, 92])"
      ]
     },
     "execution_count": 131,
     "metadata": {},
     "output_type": "execute_result"
    }
   ],
   "source": [
    "x=[1,4,7,2,75,92,4,8,2,4,5]\n",
    "np.sort(x)"
   ]
  },
  {
   "cell_type": "code",
   "execution_count": 134,
   "id": "a8b595d1-f057-485f-a61f-3ffd51c2dac9",
   "metadata": {},
   "outputs": [
    {
     "data": {
      "text/plain": [
       "(6,)"
      ]
     },
     "execution_count": 134,
     "metadata": {},
     "output_type": "execute_result"
    }
   ],
   "source": [
    "x = np.array([1,2,3,4,5,6])\n",
    "x.shape"
   ]
  },
  {
   "cell_type": "code",
   "execution_count": 137,
   "id": "ac581079-cfe5-4963-aecf-4b90b8b2da95",
   "metadata": {},
   "outputs": [
    {
     "data": {
      "text/plain": [
       "(1, 6)"
      ]
     },
     "execution_count": 137,
     "metadata": {},
     "output_type": "execute_result"
    }
   ],
   "source": [
    "new = x[np.newaxis , :]\n",
    "new.shape"
   ]
  },
  {
   "cell_type": "code",
   "execution_count": 138,
   "id": "8a82441e-47bb-46f3-8f85-488eedb245ce",
   "metadata": {},
   "outputs": [
    {
     "data": {
      "text/plain": [
       "(6, 1)"
      ]
     },
     "execution_count": 138,
     "metadata": {},
     "output_type": "execute_result"
    }
   ],
   "source": [
    "new1=x[:,np.newaxis]\n",
    "new1.shape"
   ]
  },
  {
   "cell_type": "code",
   "execution_count": 141,
   "id": "9aa151dc-aa6f-428a-ad48-bd447aa4ceb3",
   "metadata": {},
   "outputs": [
    {
     "data": {
      "text/plain": [
       "(1, 6)"
      ]
     },
     "execution_count": 141,
     "metadata": {},
     "output_type": "execute_result"
    }
   ],
   "source": [
    "row = np.expand_dims(x,axis=0)\n",
    "row.shape"
   ]
  },
  {
   "cell_type": "code",
   "execution_count": 142,
   "id": "b66fb280-3856-4df2-97be-daf4b274de72",
   "metadata": {},
   "outputs": [
    {
     "data": {
      "text/plain": [
       "(4, 1)"
      ]
     },
     "execution_count": 142,
     "metadata": {},
     "output_type": "execute_result"
    }
   ],
   "source": [
    "col = np.expand_dims(y,axis=1)\n",
    "col.shape"
   ]
  },
  {
   "cell_type": "code",
   "execution_count": 154,
   "id": "96c36ac1-2c28-4847-a673-55d25e89bfa0",
   "metadata": {},
   "outputs": [
    {
     "name": "stdout",
     "output_type": "stream",
     "text": [
      "[[1 2 3 4]\n",
      " [5 6 7 8]\n",
      " [0 9 8 7]]\n",
      "[5 6 7 8 9 8 7]\n"
     ]
    }
   ],
   "source": [
    "x = np.array([[1,2,3,4],[5,6,7,8],[0,9,8,7]])\n",
    "print(x)\n",
    "five_up = (x >= 5)\n",
    "print(x[five_up])"
   ]
  },
  {
   "cell_type": "code",
   "execution_count": 155,
   "id": "00aa11ae-02c7-4a7b-a1b4-7be774a7a6e9",
   "metadata": {},
   "outputs": [
    {
     "data": {
      "text/plain": [
       "[array([1, 2, 3, 4]),\n",
       " array([5, 6, 7, 8]),\n",
       " array([ 9,  0, 11, 12]),\n",
       " array([13, 14, 15, 16])]"
      ]
     },
     "execution_count": 155,
     "metadata": {},
     "output_type": "execute_result"
    }
   ],
   "source": [
    "y = np.array([1,2,3,4,5,6,7,8,9,0,11,12,13,14,15,16])\n",
    "y\n",
    "z = np.array_split(y,4)\n",
    "z "
   ]
  },
  {
   "cell_type": "code",
   "execution_count": 156,
   "id": "54ba6cff-4b42-4adb-a9e2-aea1782642a2",
   "metadata": {},
   "outputs": [
    {
     "data": {
      "text/plain": [
       "array([[1, 5, 0],\n",
       "       [2, 6, 9],\n",
       "       [3, 7, 8],\n",
       "       [4, 8, 7]])"
      ]
     },
     "execution_count": 156,
     "metadata": {},
     "output_type": "execute_result"
    }
   ],
   "source": [
    "k = x.transpose()\n",
    "k"
   ]
  },
  {
   "cell_type": "code",
   "execution_count": 167,
   "id": "dfab0619-7ffb-4fc0-a739-b902c9b5dad5",
   "metadata": {},
   "outputs": [
    {
     "name": "stdout",
     "output_type": "stream",
     "text": [
      "[16 15 14 13 12 11  0  9  8  7  6  5  4  3  2  1]\n"
     ]
    },
    {
     "data": {
      "text/plain": [
       "array([[7, 8, 9, 0],\n",
       "       [8, 7, 6, 5],\n",
       "       [4, 3, 2, 1]])"
      ]
     },
     "execution_count": 167,
     "metadata": {},
     "output_type": "execute_result"
    }
   ],
   "source": [
    "q=np.flip(y)\n",
    "print(q)\n",
    "m=np.flip(x)\n",
    "m"
   ]
  },
  {
   "cell_type": "code",
   "execution_count": null,
   "id": "28adbaca-0d5e-4805-bfcd-f43c79bb6a8d",
   "metadata": {},
   "outputs": [],
   "source": []
  }
 ],
 "metadata": {
  "kernelspec": {
   "display_name": "Python 3 (ipykernel)",
   "language": "python",
   "name": "python3"
  },
  "language_info": {
   "codemirror_mode": {
    "name": "ipython",
    "version": 3
   },
   "file_extension": ".py",
   "mimetype": "text/x-python",
   "name": "python",
   "nbconvert_exporter": "python",
   "pygments_lexer": "ipython3",
   "version": "3.11.7"
  }
 },
 "nbformat": 4,
 "nbformat_minor": 5
}
