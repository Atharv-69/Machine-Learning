{
 "cells": [
  {
   "cell_type": "code",
   "execution_count": 1,
   "id": "0030d19c-a981-4016-b118-ff1eea2b8195",
   "metadata": {},
   "outputs": [],
   "source": [
    "import pandas as pd \n",
    "import numpy as np\n",
    "import matplotlib.pyplot as plt \n",
    "import seaborn as sns \n",
    "import scipy.stats as stats"
   ]
  },
  {
   "cell_type": "code",
   "execution_count": 2,
   "id": "78431f09-9b16-42c1-9eca-85b0b547ee26",
   "metadata": {},
   "outputs": [],
   "source": [
    "df = pd.read_csv(\"D:\\\\air_quality_dataset.csv\")"
   ]
  },
  {
   "cell_type": "code",
   "execution_count": 3,
   "id": "bab2f8d9-e58b-431a-8dea-073e1284f825",
   "metadata": {},
   "outputs": [
    {
     "data": {
      "text/html": [
       "<div>\n",
       "<style scoped>\n",
       "    .dataframe tbody tr th:only-of-type {\n",
       "        vertical-align: middle;\n",
       "    }\n",
       "\n",
       "    .dataframe tbody tr th {\n",
       "        vertical-align: top;\n",
       "    }\n",
       "\n",
       "    .dataframe thead th {\n",
       "        text-align: right;\n",
       "    }\n",
       "</style>\n",
       "<table border=\"1\" class=\"dataframe\">\n",
       "  <thead>\n",
       "    <tr style=\"text-align: right;\">\n",
       "      <th></th>\n",
       "      <th>City</th>\n",
       "      <th>Country</th>\n",
       "      <th>Date</th>\n",
       "      <th>PM2.5</th>\n",
       "      <th>PM10</th>\n",
       "      <th>NO2</th>\n",
       "      <th>SO2</th>\n",
       "      <th>CO</th>\n",
       "      <th>O3</th>\n",
       "      <th>Temperature</th>\n",
       "      <th>Humidity</th>\n",
       "      <th>Wind Speed</th>\n",
       "    </tr>\n",
       "  </thead>\n",
       "  <tbody>\n",
       "    <tr>\n",
       "      <th>0</th>\n",
       "      <td>Bangkok</td>\n",
       "      <td>Thailand</td>\n",
       "      <td>2023-03-19</td>\n",
       "      <td>86.57</td>\n",
       "      <td>25.19</td>\n",
       "      <td>99.88</td>\n",
       "      <td>30.63</td>\n",
       "      <td>4.46</td>\n",
       "      <td>36.29</td>\n",
       "      <td>17.67</td>\n",
       "      <td>59.35</td>\n",
       "      <td>13.76</td>\n",
       "    </tr>\n",
       "    <tr>\n",
       "      <th>1</th>\n",
       "      <td>Istanbul</td>\n",
       "      <td>Turkey</td>\n",
       "      <td>2023-02-16</td>\n",
       "      <td>50.63</td>\n",
       "      <td>97.39</td>\n",
       "      <td>48.14</td>\n",
       "      <td>8.71</td>\n",
       "      <td>3.40</td>\n",
       "      <td>144.16</td>\n",
       "      <td>3.46</td>\n",
       "      <td>67.51</td>\n",
       "      <td>6.36</td>\n",
       "    </tr>\n",
       "    <tr>\n",
       "      <th>2</th>\n",
       "      <td>Rio de Janeiro</td>\n",
       "      <td>Brazil</td>\n",
       "      <td>2023-11-13</td>\n",
       "      <td>130.21</td>\n",
       "      <td>57.22</td>\n",
       "      <td>98.51</td>\n",
       "      <td>9.92</td>\n",
       "      <td>0.12</td>\n",
       "      <td>179.31</td>\n",
       "      <td>25.29</td>\n",
       "      <td>29.30</td>\n",
       "      <td>12.87</td>\n",
       "    </tr>\n",
       "    <tr>\n",
       "      <th>3</th>\n",
       "      <td>Mumbai</td>\n",
       "      <td>India</td>\n",
       "      <td>2023-03-16</td>\n",
       "      <td>119.70</td>\n",
       "      <td>130.52</td>\n",
       "      <td>10.96</td>\n",
       "      <td>33.03</td>\n",
       "      <td>7.74</td>\n",
       "      <td>38.65</td>\n",
       "      <td>23.15</td>\n",
       "      <td>99.97</td>\n",
       "      <td>7.71</td>\n",
       "    </tr>\n",
       "    <tr>\n",
       "      <th>4</th>\n",
       "      <td>Paris</td>\n",
       "      <td>France</td>\n",
       "      <td>2023-04-04</td>\n",
       "      <td>55.20</td>\n",
       "      <td>36.62</td>\n",
       "      <td>76.85</td>\n",
       "      <td>21.85</td>\n",
       "      <td>2.00</td>\n",
       "      <td>67.09</td>\n",
       "      <td>16.02</td>\n",
       "      <td>90.28</td>\n",
       "      <td>14.16</td>\n",
       "    </tr>\n",
       "  </tbody>\n",
       "</table>\n",
       "</div>"
      ],
      "text/plain": [
       "             City   Country        Date   PM2.5    PM10    NO2    SO2    CO  \\\n",
       "0         Bangkok  Thailand  2023-03-19   86.57   25.19  99.88  30.63  4.46   \n",
       "1        Istanbul    Turkey  2023-02-16   50.63   97.39  48.14   8.71  3.40   \n",
       "2  Rio de Janeiro    Brazil  2023-11-13  130.21   57.22  98.51   9.92  0.12   \n",
       "3          Mumbai     India  2023-03-16  119.70  130.52  10.96  33.03  7.74   \n",
       "4           Paris    France  2023-04-04   55.20   36.62  76.85  21.85  2.00   \n",
       "\n",
       "       O3  Temperature  Humidity  Wind Speed  \n",
       "0   36.29        17.67     59.35       13.76  \n",
       "1  144.16         3.46     67.51        6.36  \n",
       "2  179.31        25.29     29.30       12.87  \n",
       "3   38.65        23.15     99.97        7.71  \n",
       "4   67.09        16.02     90.28       14.16  "
      ]
     },
     "execution_count": 3,
     "metadata": {},
     "output_type": "execute_result"
    }
   ],
   "source": [
    "df.head()"
   ]
  },
  {
   "cell_type": "code",
   "execution_count": 63,
   "id": "12c63a71-0afb-4ecc-9ab6-01afcfc0093e",
   "metadata": {},
   "outputs": [
    {
     "data": {
      "text/plain": [
       "City           0\n",
       "Country        0\n",
       "Date           0\n",
       "PM2.5          0\n",
       "PM10           0\n",
       "NO2            0\n",
       "SO2            0\n",
       "CO             0\n",
       "O3             0\n",
       "Temperature    0\n",
       "Humidity       0\n",
       "Wind Speed     0\n",
       "dtype: int64"
      ]
     },
     "execution_count": 63,
     "metadata": {},
     "output_type": "execute_result"
    }
   ],
   "source": [
    "df.isnull().sum()"
   ]
  },
  {
   "cell_type": "code",
   "execution_count": 186,
   "id": "1389f0ee-248e-45b3-a095-6ab3e4eef1b3",
   "metadata": {},
   "outputs": [
    {
     "data": {
      "text/html": [
       "<div>\n",
       "<style scoped>\n",
       "    .dataframe tbody tr th:only-of-type {\n",
       "        vertical-align: middle;\n",
       "    }\n",
       "\n",
       "    .dataframe tbody tr th {\n",
       "        vertical-align: top;\n",
       "    }\n",
       "\n",
       "    .dataframe thead th {\n",
       "        text-align: right;\n",
       "    }\n",
       "</style>\n",
       "<table border=\"1\" class=\"dataframe\">\n",
       "  <thead>\n",
       "    <tr style=\"text-align: right;\">\n",
       "      <th></th>\n",
       "      <th>NO2</th>\n",
       "      <th>SO2</th>\n",
       "      <th>CO</th>\n",
       "      <th>O3</th>\n",
       "      <th>Temperature</th>\n",
       "      <th>Humidity</th>\n",
       "      <th>Wind Speed</th>\n",
       "    </tr>\n",
       "  </thead>\n",
       "  <tbody>\n",
       "    <tr>\n",
       "      <th>0</th>\n",
       "      <td>99.88</td>\n",
       "      <td>30.63</td>\n",
       "      <td>4.46</td>\n",
       "      <td>36.29</td>\n",
       "      <td>17.67</td>\n",
       "      <td>59.35</td>\n",
       "      <td>13.76</td>\n",
       "    </tr>\n",
       "    <tr>\n",
       "      <th>1</th>\n",
       "      <td>48.14</td>\n",
       "      <td>8.71</td>\n",
       "      <td>3.40</td>\n",
       "      <td>144.16</td>\n",
       "      <td>3.46</td>\n",
       "      <td>67.51</td>\n",
       "      <td>6.36</td>\n",
       "    </tr>\n",
       "    <tr>\n",
       "      <th>2</th>\n",
       "      <td>98.51</td>\n",
       "      <td>9.92</td>\n",
       "      <td>0.12</td>\n",
       "      <td>179.31</td>\n",
       "      <td>25.29</td>\n",
       "      <td>29.30</td>\n",
       "      <td>12.87</td>\n",
       "    </tr>\n",
       "    <tr>\n",
       "      <th>3</th>\n",
       "      <td>10.96</td>\n",
       "      <td>33.03</td>\n",
       "      <td>7.74</td>\n",
       "      <td>38.65</td>\n",
       "      <td>23.15</td>\n",
       "      <td>99.97</td>\n",
       "      <td>7.71</td>\n",
       "    </tr>\n",
       "    <tr>\n",
       "      <th>4</th>\n",
       "      <td>76.85</td>\n",
       "      <td>21.85</td>\n",
       "      <td>2.00</td>\n",
       "      <td>67.09</td>\n",
       "      <td>16.02</td>\n",
       "      <td>90.28</td>\n",
       "      <td>14.16</td>\n",
       "    </tr>\n",
       "    <tr>\n",
       "      <th>...</th>\n",
       "      <td>...</td>\n",
       "      <td>...</td>\n",
       "      <td>...</td>\n",
       "      <td>...</td>\n",
       "      <td>...</td>\n",
       "      <td>...</td>\n",
       "      <td>...</td>\n",
       "    </tr>\n",
       "    <tr>\n",
       "      <th>9995</th>\n",
       "      <td>90.33</td>\n",
       "      <td>34.93</td>\n",
       "      <td>2.81</td>\n",
       "      <td>191.45</td>\n",
       "      <td>-1.92</td>\n",
       "      <td>65.22</td>\n",
       "      <td>15.48</td>\n",
       "    </tr>\n",
       "    <tr>\n",
       "      <th>9996</th>\n",
       "      <td>49.04</td>\n",
       "      <td>5.66</td>\n",
       "      <td>2.10</td>\n",
       "      <td>184.56</td>\n",
       "      <td>-9.81</td>\n",
       "      <td>12.16</td>\n",
       "      <td>10.75</td>\n",
       "    </tr>\n",
       "    <tr>\n",
       "      <th>9997</th>\n",
       "      <td>8.41</td>\n",
       "      <td>32.58</td>\n",
       "      <td>0.69</td>\n",
       "      <td>167.68</td>\n",
       "      <td>39.35</td>\n",
       "      <td>53.95</td>\n",
       "      <td>4.56</td>\n",
       "    </tr>\n",
       "    <tr>\n",
       "      <th>9998</th>\n",
       "      <td>43.23</td>\n",
       "      <td>29.19</td>\n",
       "      <td>6.01</td>\n",
       "      <td>148.50</td>\n",
       "      <td>26.21</td>\n",
       "      <td>58.54</td>\n",
       "      <td>2.71</td>\n",
       "    </tr>\n",
       "    <tr>\n",
       "      <th>9999</th>\n",
       "      <td>50.48</td>\n",
       "      <td>21.20</td>\n",
       "      <td>0.49</td>\n",
       "      <td>17.41</td>\n",
       "      <td>2.50</td>\n",
       "      <td>66.05</td>\n",
       "      <td>5.01</td>\n",
       "    </tr>\n",
       "  </tbody>\n",
       "</table>\n",
       "<p>10000 rows × 7 columns</p>\n",
       "</div>"
      ],
      "text/plain": [
       "        NO2    SO2    CO      O3  Temperature  Humidity  Wind Speed\n",
       "0     99.88  30.63  4.46   36.29        17.67     59.35       13.76\n",
       "1     48.14   8.71  3.40  144.16         3.46     67.51        6.36\n",
       "2     98.51   9.92  0.12  179.31        25.29     29.30       12.87\n",
       "3     10.96  33.03  7.74   38.65        23.15     99.97        7.71\n",
       "4     76.85  21.85  2.00   67.09        16.02     90.28       14.16\n",
       "...     ...    ...   ...     ...          ...       ...         ...\n",
       "9995  90.33  34.93  2.81  191.45        -1.92     65.22       15.48\n",
       "9996  49.04   5.66  2.10  184.56        -9.81     12.16       10.75\n",
       "9997   8.41  32.58  0.69  167.68        39.35     53.95        4.56\n",
       "9998  43.23  29.19  6.01  148.50        26.21     58.54        2.71\n",
       "9999  50.48  21.20  0.49   17.41         2.50     66.05        5.01\n",
       "\n",
       "[10000 rows x 7 columns]"
      ]
     },
     "execution_count": 186,
     "metadata": {},
     "output_type": "execute_result"
    }
   ],
   "source": [
    "x = df.drop(['City','Country','Date','PM2.5','PM10'],axis=1)\n",
    "x"
   ]
  },
  {
   "cell_type": "code",
   "execution_count": 187,
   "id": "5765791f-3569-4a49-88c4-bb0212c1385a",
   "metadata": {},
   "outputs": [],
   "source": [
    "y = df['PM10']"
   ]
  },
  {
   "cell_type": "code",
   "execution_count": 188,
   "id": "bb9a557b-a84e-4bb8-a494-bb133a93b284",
   "metadata": {},
   "outputs": [],
   "source": [
    "from sklearn.preprocessing import RobustScaler"
   ]
  },
  {
   "cell_type": "code",
   "execution_count": 189,
   "id": "f769a380-60d6-4995-86df-658c75d282d1",
   "metadata": {},
   "outputs": [],
   "source": [
    "scl = RobustScaler(with_scaling=True)"
   ]
  },
  {
   "cell_type": "code",
   "execution_count": 190,
   "id": "17047002-0626-42b9-9bc4-28a288f2be0b",
   "metadata": {},
   "outputs": [],
   "source": [
    "x = scl.fit_transform(x)"
   ]
  },
  {
   "cell_type": "code",
   "execution_count": 215,
   "id": "001fd870-2cd3-4e2c-b8ce-f063321eb383",
   "metadata": {},
   "outputs": [],
   "source": [
    "from sklearn.preprocessing import PowerTransformer\n",
    "trf = PowerTransformer()"
   ]
  },
  {
   "cell_type": "code",
   "execution_count": 216,
   "id": "d16819aa-c462-4a9b-bbca-974675a0dd10",
   "metadata": {},
   "outputs": [],
   "source": [
    "x = trf.fit_transform(x)"
   ]
  },
  {
   "cell_type": "code",
   "execution_count": null,
   "id": "597c5b64-792b-4ddc-a8b6-d2f550a04b6d",
   "metadata": {},
   "outputs": [],
   "source": []
  },
  {
   "cell_type": "code",
   "execution_count": 217,
   "id": "17cff003-688a-4bae-9f1b-518cef4939ab",
   "metadata": {},
   "outputs": [
    {
     "data": {
      "text/plain": [
       "array([[ 1.74749599,  0.37745294, -0.20778677, ...,  0.1973675 ,\n",
       "         0.16163738,  0.62395463],\n",
       "       [-0.14969412, -1.18171602, -0.57883628, ..., -0.79005533,\n",
       "         0.47636702, -0.68952711],\n",
       "       [ 1.69718178, -1.09532991, -1.72444012, ...,  0.72205307,\n",
       "        -0.99214401,  0.46512306],\n",
       "       ...,\n",
       "       [-1.60117861,  0.5154695 , -1.52559161, ...,  1.68352781,\n",
       "        -0.04629456, -1.00675479],\n",
       "       [-0.3293053 ,  0.27546469,  0.33573395, ...,  0.78520788,\n",
       "         0.13042888, -1.33209191],\n",
       "       [-0.06406552, -0.29162611, -1.59537308, ..., -0.85714541,\n",
       "         0.42001289, -0.92751451]])"
      ]
     },
     "execution_count": 217,
     "metadata": {},
     "output_type": "execute_result"
    }
   ],
   "source": [
    "x"
   ]
  },
  {
   "cell_type": "code",
   "execution_count": 218,
   "id": "60b0276c-ae51-4012-b88d-f2569a91485e",
   "metadata": {},
   "outputs": [],
   "source": [
    "from sklearn.model_selection import train_test_split "
   ]
  },
  {
   "cell_type": "code",
   "execution_count": 219,
   "id": "93484037-753d-4610-8c9c-7d3af43aca1a",
   "metadata": {},
   "outputs": [],
   "source": [
    "x_train , x_test , y_train  , y_test = train_test_split(x,y,test_size=0.3)"
   ]
  },
  {
   "cell_type": "code",
   "execution_count": 220,
   "id": "aba866c7-b107-4c33-94d9-d04873ab108a",
   "metadata": {},
   "outputs": [
    {
     "name": "stderr",
     "output_type": "stream",
     "text": [
      "C:\\Users\\patel\\AppData\\Local\\Temp\\ipykernel_2400\\1479075778.py:3: UserWarning: \n",
      "\n",
      "`distplot` is a deprecated function and will be removed in seaborn v0.14.0.\n",
      "\n",
      "Please adapt your code to use either `displot` (a figure-level function with\n",
      "similar flexibility) or `histplot` (an axes-level function for histograms).\n",
      "\n",
      "For a guide to updating your code to use the new functions, please see\n",
      "https://gist.github.com/mwaskom/de44147ed2974457ad6372750bbe5751\n",
      "\n",
      "  sns.distplot(x_train)\n",
      "D:\\anaconda\\Lib\\site-packages\\seaborn\\_oldcore.py:1119: FutureWarning: use_inf_as_na option is deprecated and will be removed in a future version. Convert inf values to NaN before operating instead.\n",
      "  with pd.option_context('mode.use_inf_as_na', True):\n"
     ]
    },
    {
     "data": {
      "image/png": "[encoded data removed]",
      "text/plain": [
       "<Figure size 1200x200 with 1 Axes>"
      ]
     },
     "metadata": {},
     "output_type": "display_data"
    },
    {
     "name": "stderr",
     "output_type": "stream",
     "text": [
      "C:\\Users\\patel\\AppData\\Local\\Temp\\ipykernel_2400\\1479075778.py:7: UserWarning: \n",
      "\n",
      "`distplot` is a deprecated function and will be removed in seaborn v0.14.0.\n",
      "\n",
      "Please adapt your code to use either `displot` (a figure-level function with\n",
      "similar flexibility) or `histplot` (an axes-level function for histograms).\n",
      "\n",
      "For a guide to updating your code to use the new functions, please see\n",
      "https://gist.github.com/mwaskom/de44147ed2974457ad6372750bbe5751\n",
      "\n",
      "  sns.distplot(x_train)\n",
      "D:\\anaconda\\Lib\\site-packages\\seaborn\\_oldcore.py:1119: FutureWarning: use_inf_as_na option is deprecated and will be removed in a future version. Convert inf values to NaN before operating instead.\n",
      "  with pd.option_context('mode.use_inf_as_na', True):\n"
     ]
    },
    {
     "data": {
      "text/plain": [
       "<Axes: ylabel='Density'>"
      ]
     },
     "execution_count": 220,
     "metadata": {},
     "output_type": "execute_result"
    },
    {
     "data": {
      "image/png": "[encoded data removed]",
      "text/plain": [
       "<Figure size 640x480 with 1 Axes>"
      ]
     },
     "metadata": {},
     "output_type": "display_data"
    }
   ],
   "source": [
    "plt.figure(figsize=(12,2))\n",
    "plt.subplot(121)\n",
    "sns.distplot(x_train)\n",
    "plt.show()\n",
    "\n",
    "plt.subplot(122)\n",
    "sns.distplot(x_train)"
   ]
  },
  {
   "cell_type": "code",
   "execution_count": 221,
   "id": "b7c4ec9e-6194-4870-b312-b95f09b636a0",
   "metadata": {},
   "outputs": [],
   "source": [
    "import xgboost as xgb\n",
    "from sklearn.metrics import mean_absolute_error , r2_score"
   ]
  },
  {
   "cell_type": "code",
   "execution_count": 222,
   "id": "8cdf3b45-1b0b-4a38-8b10-ef8c73bb5955",
   "metadata": {},
   "outputs": [],
   "source": [
    "regr = xgb.XGBRegressor(tree_method = 'hist', eval_metric = mean_absolute_error)"
   ]
  },
  {
   "cell_type": "code",
   "execution_count": 227,
   "id": "154c8bf7-0d91-4b43-a448-e80f3d503430",
   "metadata": {
    "scrolled": true
   },
   "outputs": [
    {
     "name": "stdout",
     "output_type": "stream",
     "text": [
      "[0]\tvalidation_0-rmse:54.81183\tvalidation_0-mean_absolute_error:47.35957\n",
      "[1]\tvalidation_0-rmse:54.86670\tvalidation_0-mean_absolute_error:47.36971\n",
      "[2]\tvalidation_0-rmse:54.89601\tvalidation_0-mean_absolute_error:47.36280\n",
      "[3]\tvalidation_0-rmse:54.90140\tvalidation_0-mean_absolute_error:47.37500\n",
      "[4]\tvalidation_0-rmse:54.96600\tvalidation_0-mean_absolute_error:47.42033\n",
      "[5]\tvalidation_0-rmse:54.96870\tvalidation_0-mean_absolute_error:47.41064\n",
      "[6]\tvalidation_0-rmse:55.12873\tvalidation_0-mean_absolute_error:47.53737\n",
      "[7]\tvalidation_0-rmse:55.16786\tvalidation_0-mean_absolute_error:47.55611\n",
      "[8]\tvalidation_0-rmse:55.25776\tvalidation_0-mean_absolute_error:47.61691\n",
      "[9]\tvalidation_0-rmse:55.15744\tvalidation_0-mean_absolute_error:47.54352\n",
      "[10]\tvalidation_0-rmse:55.20550\tvalidation_0-mean_absolute_error:47.59036\n",
      "[11]\tvalidation_0-rmse:55.34778\tvalidation_0-mean_absolute_error:47.69936\n",
      "[12]\tvalidation_0-rmse:55.37574\tvalidation_0-mean_absolute_error:47.70582\n",
      "[13]\tvalidation_0-rmse:55.45940\tvalidation_0-mean_absolute_error:47.72952\n",
      "[14]\tvalidation_0-rmse:55.54661\tvalidation_0-mean_absolute_error:47.77235\n",
      "[15]\tvalidation_0-rmse:55.64707\tvalidation_0-mean_absolute_error:47.83809\n",
      "[16]\tvalidation_0-rmse:55.73851\tvalidation_0-mean_absolute_error:47.90544\n",
      "[17]\tvalidation_0-rmse:55.78353\tvalidation_0-mean_absolute_error:47.91374\n",
      "[18]\tvalidation_0-rmse:55.79359\tvalidation_0-mean_absolute_error:47.92324\n",
      "[19]\tvalidation_0-rmse:55.80328\tvalidation_0-mean_absolute_error:47.89870\n",
      "[20]\tvalidation_0-rmse:55.84513\tvalidation_0-mean_absolute_error:47.89663\n",
      "[21]\tvalidation_0-rmse:55.90416\tvalidation_0-mean_absolute_error:47.94679\n",
      "[22]\tvalidation_0-rmse:55.91328\tvalidation_0-mean_absolute_error:47.94020\n",
      "[23]\tvalidation_0-rmse:55.95202\tvalidation_0-mean_absolute_error:48.00064\n",
      "[24]\tvalidation_0-rmse:56.00054\tvalidation_0-mean_absolute_error:48.02509\n",
      "[25]\tvalidation_0-rmse:56.05957\tvalidation_0-mean_absolute_error:48.05389\n",
      "[26]\tvalidation_0-rmse:56.07166\tvalidation_0-mean_absolute_error:48.05401\n",
      "[27]\tvalidation_0-rmse:56.17200\tvalidation_0-mean_absolute_error:48.10132\n",
      "[28]\tvalidation_0-rmse:56.23078\tvalidation_0-mean_absolute_error:48.14344\n",
      "[29]\tvalidation_0-rmse:56.29193\tvalidation_0-mean_absolute_error:48.18435\n",
      "[30]\tvalidation_0-rmse:56.33483\tvalidation_0-mean_absolute_error:48.22237\n",
      "[31]\tvalidation_0-rmse:56.38051\tvalidation_0-mean_absolute_error:48.28902\n",
      "[32]\tvalidation_0-rmse:56.34348\tvalidation_0-mean_absolute_error:48.18458\n",
      "[33]\tvalidation_0-rmse:56.41233\tvalidation_0-mean_absolute_error:48.24859\n",
      "[34]\tvalidation_0-rmse:56.43171\tvalidation_0-mean_absolute_error:48.28793\n",
      "[35]\tvalidation_0-rmse:56.52399\tvalidation_0-mean_absolute_error:48.32674\n",
      "[36]\tvalidation_0-rmse:56.51289\tvalidation_0-mean_absolute_error:48.30626\n",
      "[37]\tvalidation_0-rmse:56.57032\tvalidation_0-mean_absolute_error:48.34859\n",
      "[38]\tvalidation_0-rmse:56.59256\tvalidation_0-mean_absolute_error:48.36859\n",
      "[39]\tvalidation_0-rmse:56.58609\tvalidation_0-mean_absolute_error:48.35348\n",
      "[40]\tvalidation_0-rmse:56.60020\tvalidation_0-mean_absolute_error:48.32536\n",
      "[41]\tvalidation_0-rmse:56.61273\tvalidation_0-mean_absolute_error:48.32776\n",
      "[42]\tvalidation_0-rmse:56.61759\tvalidation_0-mean_absolute_error:48.33455\n",
      "[43]\tvalidation_0-rmse:56.63622\tvalidation_0-mean_absolute_error:48.35578\n",
      "[44]\tvalidation_0-rmse:56.66935\tvalidation_0-mean_absolute_error:48.36979\n",
      "[45]\tvalidation_0-rmse:56.67298\tvalidation_0-mean_absolute_error:48.35351\n",
      "[46]\tvalidation_0-rmse:56.77086\tvalidation_0-mean_absolute_error:48.40647\n",
      "[47]\tvalidation_0-rmse:56.80761\tvalidation_0-mean_absolute_error:48.43955\n",
      "[48]\tvalidation_0-rmse:56.89896\tvalidation_0-mean_absolute_error:48.53607\n",
      "[49]\tvalidation_0-rmse:56.93134\tvalidation_0-mean_absolute_error:48.53999\n",
      "[50]\tvalidation_0-rmse:56.95174\tvalidation_0-mean_absolute_error:48.56909\n",
      "[51]\tvalidation_0-rmse:57.05634\tvalidation_0-mean_absolute_error:48.66141\n",
      "[52]\tvalidation_0-rmse:57.09593\tvalidation_0-mean_absolute_error:48.69364\n",
      "[53]\tvalidation_0-rmse:57.14380\tvalidation_0-mean_absolute_error:48.72609\n",
      "[54]\tvalidation_0-rmse:57.19601\tvalidation_0-mean_absolute_error:48.76111\n",
      "[55]\tvalidation_0-rmse:57.27006\tvalidation_0-mean_absolute_error:48.81920\n",
      "[56]\tvalidation_0-rmse:57.25437\tvalidation_0-mean_absolute_error:48.80020\n",
      "[57]\tvalidation_0-rmse:57.32619\tvalidation_0-mean_absolute_error:48.87634\n",
      "[58]\tvalidation_0-rmse:57.35262\tvalidation_0-mean_absolute_error:48.90295\n",
      "[59]\tvalidation_0-rmse:57.38963\tvalidation_0-mean_absolute_error:48.93205\n",
      "[60]\tvalidation_0-rmse:57.43339\tvalidation_0-mean_absolute_error:48.94624\n",
      "[61]\tvalidation_0-rmse:57.43614\tvalidation_0-mean_absolute_error:48.90733\n",
      "[62]\tvalidation_0-rmse:57.46947\tvalidation_0-mean_absolute_error:48.92561\n",
      "[63]\tvalidation_0-rmse:57.46217\tvalidation_0-mean_absolute_error:48.91371\n",
      "[64]\tvalidation_0-rmse:57.48514\tvalidation_0-mean_absolute_error:48.89962\n",
      "[65]\tvalidation_0-rmse:57.53524\tvalidation_0-mean_absolute_error:48.96225\n",
      "[66]\tvalidation_0-rmse:57.57133\tvalidation_0-mean_absolute_error:48.98359\n",
      "[67]\tvalidation_0-rmse:57.58123\tvalidation_0-mean_absolute_error:48.97890\n",
      "[68]\tvalidation_0-rmse:57.57673\tvalidation_0-mean_absolute_error:48.95757\n",
      "[69]\tvalidation_0-rmse:57.62471\tvalidation_0-mean_absolute_error:48.97940\n",
      "[70]\tvalidation_0-rmse:57.64393\tvalidation_0-mean_absolute_error:48.95028\n",
      "[71]\tvalidation_0-rmse:57.67093\tvalidation_0-mean_absolute_error:48.97143\n",
      "[72]\tvalidation_0-rmse:57.71916\tvalidation_0-mean_absolute_error:49.02323\n",
      "[73]\tvalidation_0-rmse:57.76069\tvalidation_0-mean_absolute_error:49.04230\n",
      "[74]\tvalidation_0-rmse:57.78657\tvalidation_0-mean_absolute_error:49.06104\n",
      "[75]\tvalidation_0-rmse:57.76776\tvalidation_0-mean_absolute_error:49.06327\n",
      "[76]\tvalidation_0-rmse:57.74231\tvalidation_0-mean_absolute_error:49.03853\n",
      "[77]\tvalidation_0-rmse:57.81793\tvalidation_0-mean_absolute_error:49.09806\n",
      "[78]\tvalidation_0-rmse:57.84672\tvalidation_0-mean_absolute_error:49.10959\n",
      "[79]\tvalidation_0-rmse:57.88290\tvalidation_0-mean_absolute_error:49.12853\n",
      "[80]\tvalidation_0-rmse:57.88446\tvalidation_0-mean_absolute_error:49.12018\n",
      "[81]\tvalidation_0-rmse:57.86100\tvalidation_0-mean_absolute_error:49.07933\n",
      "[82]\tvalidation_0-rmse:57.90801\tvalidation_0-mean_absolute_error:49.13392\n",
      "[83]\tvalidation_0-rmse:57.92522\tvalidation_0-mean_absolute_error:49.14338\n",
      "[84]\tvalidation_0-rmse:57.92575\tvalidation_0-mean_absolute_error:49.14019\n",
      "[85]\tvalidation_0-rmse:57.97095\tvalidation_0-mean_absolute_error:49.17109\n",
      "[86]\tvalidation_0-rmse:58.03617\tvalidation_0-mean_absolute_error:49.22952\n",
      "[87]\tvalidation_0-rmse:58.06005\tvalidation_0-mean_absolute_error:49.24442\n",
      "[88]\tvalidation_0-rmse:58.10375\tvalidation_0-mean_absolute_error:49.26434\n",
      "[89]\tvalidation_0-rmse:58.16615\tvalidation_0-mean_absolute_error:49.31162\n",
      "[90]\tvalidation_0-rmse:58.18328\tvalidation_0-mean_absolute_error:49.32493\n",
      "[91]\tvalidation_0-rmse:58.21431\tvalidation_0-mean_absolute_error:49.33977\n",
      "[92]\tvalidation_0-rmse:58.26014\tvalidation_0-mean_absolute_error:49.38382\n",
      "[93]\tvalidation_0-rmse:58.28298\tvalidation_0-mean_absolute_error:49.38791\n",
      "[94]\tvalidation_0-rmse:58.28780\tvalidation_0-mean_absolute_error:49.38034\n",
      "[95]\tvalidation_0-rmse:58.32269\tvalidation_0-mean_absolute_error:49.39511\n",
      "[96]\tvalidation_0-rmse:58.34204\tvalidation_0-mean_absolute_error:49.38411\n",
      "[97]\tvalidation_0-rmse:58.33729\tvalidation_0-mean_absolute_error:49.37904\n",
      "[98]\tvalidation_0-rmse:58.33873\tvalidation_0-mean_absolute_error:49.36969\n",
      "[99]\tvalidation_0-rmse:58.35036\tvalidation_0-mean_absolute_error:49.38575\n"
     ]
    },
    {
     "data": {
      "text/html": [
       "<style>#sk-container-id-18 {color: black;background-color: white;}#sk-container-id-18 pre{padding: 0;}#sk-container-id-18 div.sk-toggleable {background-color: white;}#sk-container-id-18 label.sk-toggleable__label {cursor: pointer;display: block;width: 100%;margin-bottom: 0;padding: 0.3em;box-sizing: border-box;text-align: center;}#sk-container-id-18 label.sk-toggleable__label-arrow:before {content: \"▸\";float: left;margin-right: 0.25em;color: #696969;}#sk-container-id-18 label.sk-toggleable__label-arrow:hover:before {color: black;}#sk-container-id-18 div.sk-estimator:hover label.sk-toggleable__label-arrow:before {color: black;}#sk-container-id-18 div.sk-toggleable__content {max-height: 0;max-width: 0;overflow: hidden;text-align: left;background-color: #f0f8ff;}#sk-container-id-18 div.sk-toggleable__content pre {margin: 0.2em;color: black;border-radius: 0.25em;background-color: #f0f8ff;}#sk-container-id-18 input.sk-toggleable__control:checked~div.sk-toggleable__content {max-height: 200px;max-width: 100%;overflow: auto;}#sk-container-id-18 input.sk-toggleable__control:checked~label.sk-toggleable__label-arrow:before {content: \"▾\";}#sk-container-id-18 div.sk-estimator input.sk-toggleable__control:checked~label.sk-toggleable__label {background-color: #d4ebff;}#sk-container-id-18 div.sk-label input.sk-toggleable__control:checked~label.sk-toggleable__label {background-color: #d4ebff;}#sk-container-id-18 input.sk-hidden--visually {border: 0;clip: rect(1px 1px 1px 1px);clip: rect(1px, 1px, 1px, 1px);height: 1px;margin: -1px;overflow: hidden;padding: 0;position: absolute;width: 1px;}#sk-container-id-18 div.sk-estimator {font-family: monospace;background-color: #f0f8ff;border: 1px dotted black;border-radius: 0.25em;box-sizing: border-box;margin-bottom: 0.5em;}#sk-container-id-18 div.sk-estimator:hover {background-color: #d4ebff;}#sk-container-id-18 div.sk-parallel-item::after {content: \"\";width: 100%;border-bottom: 1px solid gray;flex-grow: 1;}#sk-container-id-18 div.sk-label:hover label.sk-toggleable__label {background-color: #d4ebff;}#sk-container-id-18 div.sk-serial::before {content: \"\";position: absolute;border-left: 1px solid gray;box-sizing: border-box;top: 0;bottom: 0;left: 50%;z-index: 0;}#sk-container-id-18 div.sk-serial {display: flex;flex-direction: column;align-items: center;background-color: white;padding-right: 0.2em;padding-left: 0.2em;position: relative;}#sk-container-id-18 div.sk-item {position: relative;z-index: 1;}#sk-container-id-18 div.sk-parallel {display: flex;align-items: stretch;justify-content: center;background-color: white;position: relative;}#sk-container-id-18 div.sk-item::before, #sk-container-id-18 div.sk-parallel-item::before {content: \"\";position: absolute;border-left: 1px solid gray;box-sizing: border-box;top: 0;bottom: 0;left: 50%;z-index: -1;}#sk-container-id-18 div.sk-parallel-item {display: flex;flex-direction: column;z-index: 1;position: relative;background-color: white;}#sk-container-id-18 div.sk-parallel-item:first-child::after {align-self: flex-end;width: 50%;}#sk-container-id-18 div.sk-parallel-item:last-child::after {align-self: flex-start;width: 50%;}#sk-container-id-18 div.sk-parallel-item:only-child::after {width: 0;}#sk-container-id-18 div.sk-dashed-wrapped {border: 1px dashed gray;margin: 0 0.4em 0.5em 0.4em;box-sizing: border-box;padding-bottom: 0.4em;background-color: white;}#sk-container-id-18 div.sk-label label {font-family: monospace;font-weight: bold;display: inline-block;line-height: 1.2em;}#sk-container-id-18 div.sk-label-container {text-align: center;}#sk-container-id-18 div.sk-container {/* jupyter's `normalize.less` sets `[hidden] { display: none; }` but bootstrap.min.css set `[hidden] { display: none !important; }` so we also need the `!important` here to be able to override the default hidden behavior on the sphinx rendered scikit-learn.org. See: https://github.com/scikit-learn/scikit-learn/issues/21755 */display: inline-block !important;position: relative;}#sk-container-id-18 div.sk-text-repr-fallback {display: none;}</style><div id=\"sk-container-id-18\" class=\"sk-top-container\"><div class=\"sk-text-repr-fallback\"><pre>XGBRegressor(base_score=None, booster=None, callbacks=None,\n",
       "             colsample_bylevel=None, colsample_bynode=None,\n",
       "             colsample_bytree=None, device=None, early_stopping_rounds=None,\n",
       "             enable_categorical=False,\n",
       "             eval_metric=&lt;function mean_absolute_error at 0x000001A46E471BC0&gt;,\n",
       "             feature_types=None, gamma=None, grow_policy=None,\n",
       "             importance_type=None, interaction_constraints=None,\n",
       "             learning_rate=None, max_bin=None, max_cat_threshold=None,\n",
       "             max_cat_to_onehot=None, max_delta_step=None, max_depth=None,\n",
       "             max_leaves=None, min_child_weight=None, missing=nan,\n",
       "             monotone_constraints=None, multi_strategy=None, n_estimators=None,\n",
       "             n_jobs=None, num_parallel_tree=None, random_state=None, ...)</pre><b>In a Jupyter environment, please rerun this cell to show the HTML representation or trust the notebook. <br />On GitHub, the HTML representation is unable to render, please try loading this page with nbviewer.org.</b></div><div class=\"sk-container\" hidden><div class=\"sk-item\"><div class=\"sk-estimator sk-toggleable\"><input class=\"sk-toggleable__control sk-hidden--visually\" id=\"sk-estimator-id-18\" type=\"checkbox\" checked><label for=\"sk-estimator-id-18\" class=\"sk-toggleable__label sk-toggleable__label-arrow\">XGBRegressor</label><div class=\"sk-toggleable__content\"><pre>XGBRegressor(base_score=None, booster=None, callbacks=None,\n",
       "             colsample_bylevel=None, colsample_bynode=None,\n",
       "             colsample_bytree=None, device=None, early_stopping_rounds=None,\n",
       "             enable_categorical=False,\n",
       "             eval_metric=&lt;function mean_absolute_error at 0x000001A46E471BC0&gt;,\n",
       "             feature_types=None, gamma=None, grow_policy=None,\n",
       "             importance_type=None, interaction_constraints=None,\n",
       "             learning_rate=None, max_bin=None, max_cat_threshold=None,\n",
       "             max_cat_to_onehot=None, max_delta_step=None, max_depth=None,\n",
       "             max_leaves=None, min_child_weight=None, missing=nan,\n",
       "             monotone_constraints=None, multi_strategy=None, n_estimators=None,\n",
       "             n_jobs=None, num_parallel_tree=None, random_state=None, ...)</pre></div></div></div></div></div>"
      ],
      "text/plain": [
       "XGBRegressor(base_score=None, booster=None, callbacks=None,\n",
       "             colsample_bylevel=None, colsample_bynode=None,\n",
       "             colsample_bytree=None, device=None, early_stopping_rounds=None,\n",
       "             enable_categorical=False,\n",
       "             eval_metric=<function mean_absolute_error at 0x000001A46E471BC0>,\n",
       "             feature_types=None, gamma=None, grow_policy=None,\n",
       "             importance_type=None, interaction_constraints=None,\n",
       "             learning_rate=None, max_bin=None, max_cat_threshold=None,\n",
       "             max_cat_to_onehot=None, max_delta_step=None, max_depth=None,\n",
       "             max_leaves=None, min_child_weight=None, missing=nan,\n",
       "             monotone_constraints=None, multi_strategy=None, n_estimators=None,\n",
       "             n_jobs=None, num_parallel_tree=None, random_state=None, ...)"
      ]
     },
     "execution_count": 227,
     "metadata": {},
     "output_type": "execute_result"
    }
   ],
   "source": [
    "regr.fit(x_train,y_train,eval_set=[(x_test,y_test)])"
   ]
  },
  {
   "cell_type": "code",
   "execution_count": 228,
   "id": "f7b49109-b687-48aa-bbfd-0c6895f7a499",
   "metadata": {},
   "outputs": [],
   "source": [
    "y_pred = regr.predict(x_test)"
   ]
  },
  {
   "cell_type": "code",
   "execution_count": 229,
   "id": "76113274-504c-447c-81ac-ae2e31f63fde",
   "metadata": {},
   "outputs": [
    {
     "data": {
      "text/plain": [
       "49.38574445424081"
      ]
     },
     "execution_count": 229,
     "metadata": {},
     "output_type": "execute_result"
    }
   ],
   "source": [
    "mean_absolute_error(y_test , y_pred)"
   ]
  },
  {
   "cell_type": "code",
   "execution_count": 230,
   "id": "ad08923f-4184-40a5-a7be-5b1396576e2a",
   "metadata": {},
   "outputs": [
    {
     "data": {
      "text/plain": [
       "-0.1380813070641964"
      ]
     },
     "execution_count": 230,
     "metadata": {},
     "output_type": "execute_result"
    }
   ],
   "source": [
    "r2_score(y_test , y_pred)"
   ]
  },
  {
   "cell_type": "code",
   "execution_count": null,
   "id": "e943099c-44c7-4873-ac56-8fdb7b7c9ef3",
   "metadata": {},
   "outputs": [],
   "source": []
  }
 ],
 "metadata": {
  "kernelspec": {
   "display_name": "Python 3 (ipykernel)",
   "language": "python",
   "name": "python3"
  },
  "language_info": {
   "codemirror_mode": {
    "name": "ipython",
    "version": 3
   },
   "file_extension": ".py",
   "mimetype": "text/x-python",
   "name": "python",
   "nbconvert_exporter": "python",
   "pygments_lexer": "ipython3",
   "version": "3.11.7"
  }
 },
 "nbformat": 4,
 "nbformat_minor": 5
}
