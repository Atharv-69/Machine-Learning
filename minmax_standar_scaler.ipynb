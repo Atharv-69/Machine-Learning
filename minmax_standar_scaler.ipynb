{
 "cells": [
  {
   "cell_type": "code",
   "execution_count": 56,
   "id": "dd70b6c9-6c4e-493a-a47a-c3d254dcc87d",
   "metadata": {},
   "outputs": [],
   "source": [
    "import pandas as pd\n",
    "import numpy as np\n",
    "import matplotlib.pyplot as plt\n",
    "import seaborn as sns"
   ]
  },
  {
   "cell_type": "code",
   "execution_count": 57,
   "id": "ac4c49ec-c312-46c2-9af2-b73188033442",
   "metadata": {},
   "outputs": [
    {
     "data": {
      "text/html": [
       "<div>\n",
       "<style scoped>\n",
       "    .dataframe tbody tr th:only-of-type {\n",
       "        vertical-align: middle;\n",
       "    }\n",
       "\n",
       "    .dataframe tbody tr th {\n",
       "        vertical-align: top;\n",
       "    }\n",
       "\n",
       "    .dataframe thead th {\n",
       "        text-align: right;\n",
       "    }\n",
       "</style>\n",
       "<table border=\"1\" class=\"dataframe\">\n",
       "  <thead>\n",
       "    <tr style=\"text-align: right;\">\n",
       "      <th></th>\n",
       "      <th>Index</th>\n",
       "      <th>Alcohol</th>\n",
       "      <th>Mallic Acid</th>\n",
       "    </tr>\n",
       "  </thead>\n",
       "  <tbody>\n",
       "    <tr>\n",
       "      <th>0</th>\n",
       "      <td>1</td>\n",
       "      <td>14.23</td>\n",
       "      <td>1.71</td>\n",
       "    </tr>\n",
       "    <tr>\n",
       "      <th>1</th>\n",
       "      <td>1</td>\n",
       "      <td>13.20</td>\n",
       "      <td>1.78</td>\n",
       "    </tr>\n",
       "    <tr>\n",
       "      <th>2</th>\n",
       "      <td>1</td>\n",
       "      <td>13.16</td>\n",
       "      <td>2.36</td>\n",
       "    </tr>\n",
       "    <tr>\n",
       "      <th>3</th>\n",
       "      <td>1</td>\n",
       "      <td>14.37</td>\n",
       "      <td>1.95</td>\n",
       "    </tr>\n",
       "    <tr>\n",
       "      <th>4</th>\n",
       "      <td>1</td>\n",
       "      <td>13.24</td>\n",
       "      <td>2.59</td>\n",
       "    </tr>\n",
       "    <tr>\n",
       "      <th>5</th>\n",
       "      <td>1</td>\n",
       "      <td>14.20</td>\n",
       "      <td>1.76</td>\n",
       "    </tr>\n",
       "    <tr>\n",
       "      <th>6</th>\n",
       "      <td>1</td>\n",
       "      <td>14.39</td>\n",
       "      <td>1.87</td>\n",
       "    </tr>\n",
       "    <tr>\n",
       "      <th>7</th>\n",
       "      <td>1</td>\n",
       "      <td>14.06</td>\n",
       "      <td>2.15</td>\n",
       "    </tr>\n",
       "    <tr>\n",
       "      <th>8</th>\n",
       "      <td>1</td>\n",
       "      <td>14.83</td>\n",
       "      <td>1.64</td>\n",
       "    </tr>\n",
       "    <tr>\n",
       "      <th>9</th>\n",
       "      <td>1</td>\n",
       "      <td>13.86</td>\n",
       "      <td>1.35</td>\n",
       "    </tr>\n",
       "  </tbody>\n",
       "</table>\n",
       "</div>"
      ],
      "text/plain": [
       "   Index  Alcohol  Mallic Acid\n",
       "0      1    14.23         1.71\n",
       "1      1    13.20         1.78\n",
       "2      1    13.16         2.36\n",
       "3      1    14.37         1.95\n",
       "4      1    13.24         2.59\n",
       "5      1    14.20         1.76\n",
       "6      1    14.39         1.87\n",
       "7      1    14.06         2.15\n",
       "8      1    14.83         1.64\n",
       "9      1    13.86         1.35"
      ]
     },
     "execution_count": 57,
     "metadata": {},
     "output_type": "execute_result"
    }
   ],
   "source": [
    "df = pd.read_csv('D:\\\\wine_data (1).csv',header=None,usecols=[0,1,2])\n",
    "df.columns=['Index','Alcohol','Mallic Acid']\n",
    "df.head(10)"
   ]
  },
  {
   "cell_type": "code",
   "execution_count": 58,
   "id": "f4fae408-2002-4044-9d28-6fc536c6a5ff",
   "metadata": {},
   "outputs": [
    {
     "data": {
      "text/plain": [
       "((124, 2), (124,))"
      ]
     },
     "execution_count": 58,
     "metadata": {},
     "output_type": "execute_result"
    }
   ],
   "source": [
    "from sklearn.model_selection import train_test_split\n",
    "x_train , x_test , y_train , y_test = train_test_split(df.drop('Index', axis = 1),\n",
    "                                                      df['Index'],\n",
    "                                                      test_size = 0.3)\n",
    "x_train.shape , y_train.shape"
   ]
  },
  {
   "cell_type": "code",
   "execution_count": 59,
   "id": "87bcf11d-6ded-4677-b439-71350e9a3fbe",
   "metadata": {},
   "outputs": [],
   "source": [
    "# from sklearn.preprocessing import MinMaxScaler\n",
    "# scaler = MinMaxScaler()\n",
    "# scaler.fit(x_train)\n",
    "# x_train_scaled = scaler.transform(x_train)\n",
    "# x_test_scaled = scaler.transform(x_test)"
   ]
  },
  {
   "cell_type": "code",
   "execution_count": 60,
   "id": "4a1d8ac5-3df5-4ad5-b9c9-ae4e14ee2547",
   "metadata": {},
   "outputs": [],
   "source": [
    "# x_train_scaled = pd.DataFrame(x_train_scaled , columns=x_train.columns)\n",
    "# x_test_scaled = pd.DataFrame(x_test_scaled , columns=x_test.columns)\n",
    "# x_train_scaled.head(10)"
   ]
  },
  {
   "cell_type": "code",
   "execution_count": 61,
   "id": "8ddc1c92-3850-470f-b68d-cb1a5611992f",
   "metadata": {},
   "outputs": [],
   "source": [
    "# x_test_scaled.head(10)"
   ]
  },
  {
   "cell_type": "code",
   "execution_count": 62,
   "id": "676ef434-79d0-484c-bfa2-ad4781a63987",
   "metadata": {},
   "outputs": [],
   "source": [
    "# np.round(x_train.describe(),1)"
   ]
  },
  {
   "cell_type": "code",
   "execution_count": 63,
   "id": "aad1af5f-4f4c-4d28-8410-2171e1603db9",
   "metadata": {},
   "outputs": [],
   "source": [
    "# np.round(x_train_scaled.describe(),1)"
   ]
  },
  {
   "cell_type": "code",
   "execution_count": 64,
   "id": "cb83037a-fe71-4409-a565-57a84c8df246",
   "metadata": {},
   "outputs": [],
   "source": [
    "# fig,(ax1,ax2) = plt.subplots(ncols=2 , figsize=(15,6))\n",
    "# plt.subplot(1,2,1)\n",
    "# ax1=plt.scatter(x_train['Alcohol'],x_train['Mallic Acid'],c=y_train)\n",
    "# plt.subplot(1,2,2)\n",
    "# ax2=plt.scatter(x_train_scaled['Alcohol'],x_train_scaled['Mallic Acid'],c=y_train)\n",
    "# plt.show()"
   ]
  },
  {
   "cell_type": "code",
   "execution_count": 67,
   "id": "b69d5de6-493d-4871-8844-08c78f2600c8",
   "metadata": {},
   "outputs": [
    {
     "data": {
      "text/plain": [
       "array([12.9983871 ,  2.35008065])"
      ]
     },
     "execution_count": 67,
     "metadata": {},
     "output_type": "execute_result"
    }
   ],
   "source": [
    "from sklearn import preprocessing\n",
    "scaler = preprocessing.StandardScaler()\n",
    "scaler.fit(x_train)\n",
    "scaler.mean_\n"
   ]
  },
  {
   "cell_type": "code",
   "execution_count": 68,
   "id": "80b8101b-a561-4f27-884e-9e1e602437ed",
   "metadata": {},
   "outputs": [
    {
     "data": {
      "text/plain": [
       "array([0.81715023, 1.17771477])"
      ]
     },
     "execution_count": 68,
     "metadata": {},
     "output_type": "execute_result"
    }
   ],
   "source": [
    "scaler.scale_"
   ]
  },
  {
   "cell_type": "code",
   "execution_count": 73,
   "id": "efe78a41-eb74-4580-8be5-39e051b1a2d2",
   "metadata": {
    "scrolled": true
   },
   "outputs": [
    {
     "data": {
      "text/plain": [
       "array([[ 0.77294588, -0.45858357],\n",
       "       [-0.57319582,  2.68309392],\n",
       "       [ 0.5893811 , -0.45858357],\n",
       "       [-0.76899825, -0.96804478],\n",
       "       [ 0.06316207, -0.52651173],\n",
       "       [-0.96480068, -0.98502682],\n",
       "       [ 0.19777624,  0.00842254],\n",
       "       [ 0.13658799, -0.38216439],\n",
       "       [ 0.61385641,  0.65374008],\n",
       "       [-0.19382861,  0.51788376],\n",
       "       [-1.13612781, -0.16139786],\n",
       "       [-0.04697679,  0.93394375],\n",
       "       [ 0.60161876,  1.05281804],\n",
       "       [ 0.47924224, -0.49254765],\n",
       "       [-0.43858165, -0.84067948],\n",
       "       [-0.48753226, -0.85766152],\n",
       "       [-1.12389016, -0.44160153],\n",
       "       [ 0.13658799, -1.13786519],\n",
       "       [ 0.62609406, -0.46707459],\n",
       "       [-1.02598894, -0.62840397],\n",
       "       [-1.12389016, -0.22932602],\n",
       "       [ 1.2502143 , -0.56896683],\n",
       "       [-0.70780999, -0.62840397],\n",
       "       [-1.27074198, -1.06993703],\n",
       "       [ 1.34811552, -0.16139786],\n",
       "       [-1.22179137, -0.71331418],\n",
       "       [ 1.07888718,  2.28401597],\n",
       "       [ 0.8953224 ,  1.70662659],\n",
       "       [ 1.42154143,  0.13578785],\n",
       "       [ 1.06664953, -0.38216439],\n",
       "       [ 1.45825438, -0.64538601],\n",
       "       [ 0.33239041,  1.63869843],\n",
       "       [ 1.15231309, -0.52651173],\n",
       "       [ 0.5893811 , -0.57745785],\n",
       "       [ 1.48272969,  1.43491395],\n",
       "       [ 0.93203536, -0.69633214],\n",
       "       [-1.4420691 , -0.53500275],\n",
       "       [-0.25501687,  0.27164417],\n",
       "       [ 0.90756005, -0.57745785],\n",
       "       [-0.27949218,  0.03389561],\n",
       "       [-0.86689947, -0.79822438],\n",
       "       [-0.14487801,  0.54335682],\n",
       "       [ 0.68728232, -0.54349377],\n",
       "       [-1.38088084,  1.66417149],\n",
       "       [ 0.2100139 ,  0.20371601],\n",
       "       [ 0.06316207, -0.59443989],\n",
       "       [-0.76899825, -1.19730233],\n",
       "       [-0.70780999,  0.16975193],\n",
       "       [-0.36515574,  1.2905666 ],\n",
       "       [-0.76899825, -1.08691907],\n",
       "       [-0.95256303, -0.90011662],\n",
       "       [-0.59767113, -0.94257172],\n",
       "       [ 0.39357867,  0.75563233],\n",
       "       [ 1.49496734,  1.39245885],\n",
       "       [-0.76899825, -1.03597295],\n",
       "       [ 0.94427301, -0.38216439],\n",
       "       [-0.86689947,  0.4075005 ],\n",
       "       [ 0.41805398, -1.19730233],\n",
       "       [ 0.2100139 ,  2.41138128],\n",
       "       [-0.80571121,  0.08484173],\n",
       "       [ 1.64181916, -0.56896683],\n",
       "       [-0.69557234, -0.69633214],\n",
       "       [ 1.05441187, -0.71331418],\n",
       "       [-1.4175938 , -1.23975743],\n",
       "       [-1.76024805, -0.25479908],\n",
       "       [-1.89486222,  0.04238663],\n",
       "       [-1.01375129, -0.7642603 ],\n",
       "       [-1.22179137, -1.21428437],\n",
       "       [-1.12389016, -1.03597295],\n",
       "       [ 0.68728232, -0.52651173],\n",
       "       [ 1.01769892, -0.59443989],\n",
       "       [-0.18159096, -0.63689499],\n",
       "       [-2.4088436 , -0.71331418],\n",
       "       [ 0.95651066,  0.34806335],\n",
       "       [-1.69905979, -0.8491705 ],\n",
       "       [-1.88262457,  1.18018334],\n",
       "       [ 1.37259082, -0.73878724],\n",
       "       [-0.70780999,  1.76606374],\n",
       "       [ 0.28343981,  0.80657845],\n",
       "       [-0.21830392,  0.86601559],\n",
       "       [ 0.78518353,  0.63675804],\n",
       "       [ 0.06316207, -0.25479908],\n",
       "       [ 0.44252928,  0.17824295],\n",
       "       [-0.4018687 , -1.16333825],\n",
       "       [ 0.09987503,  1.31603966],\n",
       "       [ 0.84637179,  0.77261437],\n",
       "       [ 1.70300742, -0.40763745],\n",
       "       [ 1.07888718, -0.39065541],\n",
       "       [-0.36515574,  1.01885395],\n",
       "       [ 0.8708471 ,  2.80196821],\n",
       "       [ 0.83413414, -0.44160153],\n",
       "       [ 0.8953224 , -0.7218052 ],\n",
       "       [-0.15711566,  1.9189021 ],\n",
       "       [-0.76899825, -1.00200887],\n",
       "       [-0.34068044, -0.50952969],\n",
       "       [-0.37739339, -0.69633214],\n",
       "       [ 1.38482847,  1.48586007],\n",
       "       [ 0.29567746,  0.20371601],\n",
       "       [ 2.14356289, -0.52651173],\n",
       "       [ 0.49147989,  1.32453068],\n",
       "       [ 1.01769892, -0.66236806],\n",
       "       [ 1.47049204, -0.50103867],\n",
       "       [-0.97703833,  0.5773209 ],\n",
       "       [ 2.2414641 , -0.60293091],\n",
       "       [ 0.08763738, -0.7218052 ],\n",
       "       [-0.91585007,  2.01230332],\n",
       "       [-1.94381283, -1.36712274],\n",
       "       [-0.91585007,  1.29905762],\n",
       "       [-1.51549501,  0.28013519],\n",
       "       [ 0.9197977 , -0.52651173],\n",
       "       [-0.48753226,  0.09333275],\n",
       "       [ 0.71175762, -0.58594887],\n",
       "       [-0.7812359 ,  1.25660252],\n",
       "       [ 1.69076977, -0.40763745],\n",
       "       [-0.86689947, -0.62840397],\n",
       "       [ 0.55266815,  1.14621926],\n",
       "       [ 0.06316207,  2.92933351],\n",
       "       [-0.81794886, -1.15484723],\n",
       "       [ 0.49147989,  1.91041108],\n",
       "       [-0.59767113, -0.52651173],\n",
       "       [ 1.59286856, -0.36518235],\n",
       "       [-1.65010918, -0.57745785],\n",
       "       [ 0.63833171,  0.69619518],\n",
       "       [-0.81794886, -1.06144601]])"
      ]
     },
     "execution_count": 73,
     "metadata": {},
     "output_type": "execute_result"
    }
   ],
   "source": [
    "x_train_scaled = scaler.transform(x_train)\n",
    "x_train_scaled"
   ]
  },
  {
   "cell_type": "code",
   "execution_count": null,
   "id": "9e0059a6-d4bf-43b6-b2c0-92f55195af16",
   "metadata": {},
   "outputs": [],
   "source": [
    "x_test_scaled = scaler.transform(x_test)\n",
    "x_test_scaled"
   ]
  },
  {
   "cell_type": "code",
   "execution_count": 75,
   "id": "57e8ea4a-c7b5-4b62-9f53-1390ce9151b0",
   "metadata": {},
   "outputs": [
    {
     "data": {
      "text/plain": [
       "array([ 3.37543613e-16, -1.25347761e-17])"
      ]
     },
     "execution_count": 75,
     "metadata": {},
     "output_type": "execute_result"
    }
   ],
   "source": [
    "x_train_scaled.mean(axis=0)"
   ]
  },
  {
   "cell_type": "code",
   "execution_count": 76,
   "id": "84d805a1-9756-4eca-b803-198837bbb09d",
   "metadata": {},
   "outputs": [
    {
     "data": {
      "text/plain": [
       "array([1., 1.])"
      ]
     },
     "execution_count": 76,
     "metadata": {},
     "output_type": "execute_result"
    }
   ],
   "source": [
    "x_train_scaled.std(axis=0) "
   ]
  },
  {
   "cell_type": "code",
   "execution_count": 86,
   "id": "28e8c77c-501f-4a58-a19a-872da09fb632",
   "metadata": {},
   "outputs": [],
   "source": [
    "x_train_scaled1=pd.DataFrame(x_train_scaled, columns=x_train.columns) \n",
    "x_test_scaled1=pd.DataFrame(x_test_scaled, columns=x_test.columns) \n"
   ]
  },
  {
   "cell_type": "code",
   "execution_count": 88,
   "id": "5038d164-8b60-43c5-bff3-bad53d9a9a5d",
   "metadata": {},
   "outputs": [
    {
     "data": {
      "image/png": "[encoded data removed]",
      "text/plain": [
       "<Figure size 1500x600 with 2 Axes>"
      ]
     },
     "metadata": {},
     "output_type": "display_data"
    }
   ],
   "source": [
    "fig,(ax1,ax2) = plt.subplots(ncols=2 , figsize=(15,6))\n",
    "plt.subplot(1,2,1)\n",
    "ax1=plt.scatter(x_train['Alcohol'],x_train['Mallic Acid'],c=y_train)\n",
    "plt.subplot(1,2,2)\n",
    "ax2=plt.scatter(x_train_scaled1['Alcohol'],x_train_scaled1['Mallic Acid'],c=y_train)\n",
    "plt.show() "
   ]
  },
  {
   "cell_type": "code",
   "execution_count": null,
   "id": "3d92f75f-7c6d-47f7-af61-c2c5f05439dc",
   "metadata": {},
   "outputs": [],
   "source": []
  }
 ],
 "metadata": {
  "kernelspec": {
   "display_name": "Python 3 (ipykernel)",
   "language": "python",
   "name": "python3"
  },
  "language_info": {
   "codemirror_mode": {
    "name": "ipython",
    "version": 3
   },
   "file_extension": ".py",
   "mimetype": "text/x-python",
   "name": "python",
   "nbconvert_exporter": "python",
   "pygments_lexer": "ipython3",
   "version": "3.11.7"
  }
 },
 "nbformat": 4,
 "nbformat_minor": 5
}
