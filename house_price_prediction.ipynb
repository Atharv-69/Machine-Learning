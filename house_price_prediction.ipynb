{
 "cells": [
  {
   "cell_type": "code",
   "execution_count": 2,
   "id": "b57f2410-93c4-4cef-97af-506ea67011d8",
   "metadata": {},
   "outputs": [],
   "source": [
    "import pandas as pd \n",
    "import numpy as np\n",
    "import matplotlib.pyplot as plt "
   ]
  },
  {
   "cell_type": "code",
   "execution_count": 3,
   "id": "9a7e051e-3023-4bca-81ee-7ab1ba2c58c1",
   "metadata": {},
   "outputs": [],
   "source": [
    "df = pd.read_csv(\"D:\\house price dataset\\house pred data\\House_Rent_Dataset.csv\")"
   ]
  },
  {
   "cell_type": "code",
   "execution_count": 4,
   "id": "1b539665-bf7f-4f30-9f9a-ec5f88949904",
   "metadata": {},
   "outputs": [
    {
     "data": {
      "text/html": [
       "<div>\n",
       "<style scoped>\n",
       "    .dataframe tbody tr th:only-of-type {\n",
       "        vertical-align: middle;\n",
       "    }\n",
       "\n",
       "    .dataframe tbody tr th {\n",
       "        vertical-align: top;\n",
       "    }\n",
       "\n",
       "    .dataframe thead th {\n",
       "        text-align: right;\n",
       "    }\n",
       "</style>\n",
       "<table border=\"1\" class=\"dataframe\">\n",
       "  <thead>\n",
       "    <tr style=\"text-align: right;\">\n",
       "      <th></th>\n",
       "      <th>Posted On</th>\n",
       "      <th>BHK</th>\n",
       "      <th>Rent</th>\n",
       "      <th>Size</th>\n",
       "      <th>Floor</th>\n",
       "      <th>Area Type</th>\n",
       "      <th>Area Locality</th>\n",
       "      <th>City</th>\n",
       "      <th>Furnishing Status</th>\n",
       "      <th>Tenant Preferred</th>\n",
       "      <th>Bathroom</th>\n",
       "      <th>Point of Contact</th>\n",
       "    </tr>\n",
       "  </thead>\n",
       "  <tbody>\n",
       "    <tr>\n",
       "      <th>0</th>\n",
       "      <td>2022-05-18</td>\n",
       "      <td>2</td>\n",
       "      <td>10000</td>\n",
       "      <td>1100</td>\n",
       "      <td>Ground out of 2</td>\n",
       "      <td>Super Area</td>\n",
       "      <td>Bandel</td>\n",
       "      <td>Kolkata</td>\n",
       "      <td>Unfurnished</td>\n",
       "      <td>Bachelors/Family</td>\n",
       "      <td>2</td>\n",
       "      <td>Contact Owner</td>\n",
       "    </tr>\n",
       "    <tr>\n",
       "      <th>1</th>\n",
       "      <td>2022-05-13</td>\n",
       "      <td>2</td>\n",
       "      <td>20000</td>\n",
       "      <td>800</td>\n",
       "      <td>1 out of 3</td>\n",
       "      <td>Super Area</td>\n",
       "      <td>Phool Bagan, Kankurgachi</td>\n",
       "      <td>Kolkata</td>\n",
       "      <td>Semi-Furnished</td>\n",
       "      <td>Bachelors/Family</td>\n",
       "      <td>1</td>\n",
       "      <td>Contact Owner</td>\n",
       "    </tr>\n",
       "    <tr>\n",
       "      <th>2</th>\n",
       "      <td>2022-05-16</td>\n",
       "      <td>2</td>\n",
       "      <td>17000</td>\n",
       "      <td>1000</td>\n",
       "      <td>1 out of 3</td>\n",
       "      <td>Super Area</td>\n",
       "      <td>Salt Lake City Sector 2</td>\n",
       "      <td>Kolkata</td>\n",
       "      <td>Semi-Furnished</td>\n",
       "      <td>Bachelors/Family</td>\n",
       "      <td>1</td>\n",
       "      <td>Contact Owner</td>\n",
       "    </tr>\n",
       "    <tr>\n",
       "      <th>3</th>\n",
       "      <td>2022-07-04</td>\n",
       "      <td>2</td>\n",
       "      <td>10000</td>\n",
       "      <td>800</td>\n",
       "      <td>1 out of 2</td>\n",
       "      <td>Super Area</td>\n",
       "      <td>Dumdum Park</td>\n",
       "      <td>Kolkata</td>\n",
       "      <td>Unfurnished</td>\n",
       "      <td>Bachelors/Family</td>\n",
       "      <td>1</td>\n",
       "      <td>Contact Owner</td>\n",
       "    </tr>\n",
       "    <tr>\n",
       "      <th>4</th>\n",
       "      <td>2022-05-09</td>\n",
       "      <td>2</td>\n",
       "      <td>7500</td>\n",
       "      <td>850</td>\n",
       "      <td>1 out of 2</td>\n",
       "      <td>Carpet Area</td>\n",
       "      <td>South Dum Dum</td>\n",
       "      <td>Kolkata</td>\n",
       "      <td>Unfurnished</td>\n",
       "      <td>Bachelors</td>\n",
       "      <td>1</td>\n",
       "      <td>Contact Owner</td>\n",
       "    </tr>\n",
       "    <tr>\n",
       "      <th>...</th>\n",
       "      <td>...</td>\n",
       "      <td>...</td>\n",
       "      <td>...</td>\n",
       "      <td>...</td>\n",
       "      <td>...</td>\n",
       "      <td>...</td>\n",
       "      <td>...</td>\n",
       "      <td>...</td>\n",
       "      <td>...</td>\n",
       "      <td>...</td>\n",
       "      <td>...</td>\n",
       "      <td>...</td>\n",
       "    </tr>\n",
       "    <tr>\n",
       "      <th>4741</th>\n",
       "      <td>2022-05-18</td>\n",
       "      <td>2</td>\n",
       "      <td>15000</td>\n",
       "      <td>1000</td>\n",
       "      <td>3 out of 5</td>\n",
       "      <td>Carpet Area</td>\n",
       "      <td>Bandam Kommu</td>\n",
       "      <td>Hyderabad</td>\n",
       "      <td>Semi-Furnished</td>\n",
       "      <td>Bachelors/Family</td>\n",
       "      <td>2</td>\n",
       "      <td>Contact Owner</td>\n",
       "    </tr>\n",
       "    <tr>\n",
       "      <th>4742</th>\n",
       "      <td>2022-05-15</td>\n",
       "      <td>3</td>\n",
       "      <td>29000</td>\n",
       "      <td>2000</td>\n",
       "      <td>1 out of 4</td>\n",
       "      <td>Super Area</td>\n",
       "      <td>Manikonda, Hyderabad</td>\n",
       "      <td>Hyderabad</td>\n",
       "      <td>Semi-Furnished</td>\n",
       "      <td>Bachelors/Family</td>\n",
       "      <td>3</td>\n",
       "      <td>Contact Owner</td>\n",
       "    </tr>\n",
       "    <tr>\n",
       "      <th>4743</th>\n",
       "      <td>2022-07-10</td>\n",
       "      <td>3</td>\n",
       "      <td>35000</td>\n",
       "      <td>1750</td>\n",
       "      <td>3 out of 5</td>\n",
       "      <td>Carpet Area</td>\n",
       "      <td>Himayath Nagar, NH 7</td>\n",
       "      <td>Hyderabad</td>\n",
       "      <td>Semi-Furnished</td>\n",
       "      <td>Bachelors/Family</td>\n",
       "      <td>3</td>\n",
       "      <td>Contact Agent</td>\n",
       "    </tr>\n",
       "    <tr>\n",
       "      <th>4744</th>\n",
       "      <td>2022-07-06</td>\n",
       "      <td>3</td>\n",
       "      <td>45000</td>\n",
       "      <td>1500</td>\n",
       "      <td>23 out of 34</td>\n",
       "      <td>Carpet Area</td>\n",
       "      <td>Gachibowli</td>\n",
       "      <td>Hyderabad</td>\n",
       "      <td>Semi-Furnished</td>\n",
       "      <td>Family</td>\n",
       "      <td>2</td>\n",
       "      <td>Contact Agent</td>\n",
       "    </tr>\n",
       "    <tr>\n",
       "      <th>4745</th>\n",
       "      <td>2022-05-04</td>\n",
       "      <td>2</td>\n",
       "      <td>15000</td>\n",
       "      <td>1000</td>\n",
       "      <td>4 out of 5</td>\n",
       "      <td>Carpet Area</td>\n",
       "      <td>Suchitra Circle</td>\n",
       "      <td>Hyderabad</td>\n",
       "      <td>Unfurnished</td>\n",
       "      <td>Bachelors</td>\n",
       "      <td>2</td>\n",
       "      <td>Contact Owner</td>\n",
       "    </tr>\n",
       "  </tbody>\n",
       "</table>\n",
       "<p>4746 rows × 12 columns</p>\n",
       "</div>"
      ],
      "text/plain": [
       "       Posted On  BHK   Rent  Size            Floor    Area Type  \\\n",
       "0     2022-05-18    2  10000  1100  Ground out of 2   Super Area   \n",
       "1     2022-05-13    2  20000   800       1 out of 3   Super Area   \n",
       "2     2022-05-16    2  17000  1000       1 out of 3   Super Area   \n",
       "3     2022-07-04    2  10000   800       1 out of 2   Super Area   \n",
       "4     2022-05-09    2   7500   850       1 out of 2  Carpet Area   \n",
       "...          ...  ...    ...   ...              ...          ...   \n",
       "4741  2022-05-18    2  15000  1000       3 out of 5  Carpet Area   \n",
       "4742  2022-05-15    3  29000  2000       1 out of 4   Super Area   \n",
       "4743  2022-07-10    3  35000  1750       3 out of 5  Carpet Area   \n",
       "4744  2022-07-06    3  45000  1500     23 out of 34  Carpet Area   \n",
       "4745  2022-05-04    2  15000  1000       4 out of 5  Carpet Area   \n",
       "\n",
       "                 Area Locality       City Furnishing Status  Tenant Preferred  \\\n",
       "0                       Bandel    Kolkata       Unfurnished  Bachelors/Family   \n",
       "1     Phool Bagan, Kankurgachi    Kolkata    Semi-Furnished  Bachelors/Family   \n",
       "2      Salt Lake City Sector 2    Kolkata    Semi-Furnished  Bachelors/Family   \n",
       "3                  Dumdum Park    Kolkata       Unfurnished  Bachelors/Family   \n",
       "4                South Dum Dum    Kolkata       Unfurnished         Bachelors   \n",
       "...                        ...        ...               ...               ...   \n",
       "4741              Bandam Kommu  Hyderabad    Semi-Furnished  Bachelors/Family   \n",
       "4742      Manikonda, Hyderabad  Hyderabad    Semi-Furnished  Bachelors/Family   \n",
       "4743      Himayath Nagar, NH 7  Hyderabad    Semi-Furnished  Bachelors/Family   \n",
       "4744                Gachibowli  Hyderabad    Semi-Furnished            Family   \n",
       "4745           Suchitra Circle  Hyderabad       Unfurnished         Bachelors   \n",
       "\n",
       "      Bathroom Point of Contact  \n",
       "0            2    Contact Owner  \n",
       "1            1    Contact Owner  \n",
       "2            1    Contact Owner  \n",
       "3            1    Contact Owner  \n",
       "4            1    Contact Owner  \n",
       "...        ...              ...  \n",
       "4741         2    Contact Owner  \n",
       "4742         3    Contact Owner  \n",
       "4743         3    Contact Agent  \n",
       "4744         2    Contact Agent  \n",
       "4745         2    Contact Owner  \n",
       "\n",
       "[4746 rows x 12 columns]"
      ]
     },
     "execution_count": 4,
     "metadata": {},
     "output_type": "execute_result"
    }
   ],
   "source": [
    "df"
   ]
  },
  {
   "cell_type": "code",
   "execution_count": 5,
   "id": "23d82441-1b5e-4415-bae3-bd7e1f171b72",
   "metadata": {},
   "outputs": [
    {
     "data": {
      "text/html": [
       "<div>\n",
       "<style scoped>\n",
       "    .dataframe tbody tr th:only-of-type {\n",
       "        vertical-align: middle;\n",
       "    }\n",
       "\n",
       "    .dataframe tbody tr th {\n",
       "        vertical-align: top;\n",
       "    }\n",
       "\n",
       "    .dataframe thead th {\n",
       "        text-align: right;\n",
       "    }\n",
       "</style>\n",
       "<table border=\"1\" class=\"dataframe\">\n",
       "  <thead>\n",
       "    <tr style=\"text-align: right;\">\n",
       "      <th></th>\n",
       "      <th>BHK</th>\n",
       "      <th>Rent</th>\n",
       "      <th>Size</th>\n",
       "      <th>Area Type</th>\n",
       "      <th>Furnishing Status</th>\n",
       "      <th>Bathroom</th>\n",
       "      <th>Point of Contact</th>\n",
       "    </tr>\n",
       "  </thead>\n",
       "  <tbody>\n",
       "    <tr>\n",
       "      <th>0</th>\n",
       "      <td>2</td>\n",
       "      <td>10000</td>\n",
       "      <td>1100</td>\n",
       "      <td>Super Area</td>\n",
       "      <td>Unfurnished</td>\n",
       "      <td>2</td>\n",
       "      <td>Contact Owner</td>\n",
       "    </tr>\n",
       "    <tr>\n",
       "      <th>1</th>\n",
       "      <td>2</td>\n",
       "      <td>20000</td>\n",
       "      <td>800</td>\n",
       "      <td>Super Area</td>\n",
       "      <td>Semi-Furnished</td>\n",
       "      <td>1</td>\n",
       "      <td>Contact Owner</td>\n",
       "    </tr>\n",
       "    <tr>\n",
       "      <th>2</th>\n",
       "      <td>2</td>\n",
       "      <td>17000</td>\n",
       "      <td>1000</td>\n",
       "      <td>Super Area</td>\n",
       "      <td>Semi-Furnished</td>\n",
       "      <td>1</td>\n",
       "      <td>Contact Owner</td>\n",
       "    </tr>\n",
       "    <tr>\n",
       "      <th>3</th>\n",
       "      <td>2</td>\n",
       "      <td>10000</td>\n",
       "      <td>800</td>\n",
       "      <td>Super Area</td>\n",
       "      <td>Unfurnished</td>\n",
       "      <td>1</td>\n",
       "      <td>Contact Owner</td>\n",
       "    </tr>\n",
       "    <tr>\n",
       "      <th>4</th>\n",
       "      <td>2</td>\n",
       "      <td>7500</td>\n",
       "      <td>850</td>\n",
       "      <td>Carpet Area</td>\n",
       "      <td>Unfurnished</td>\n",
       "      <td>1</td>\n",
       "      <td>Contact Owner</td>\n",
       "    </tr>\n",
       "  </tbody>\n",
       "</table>\n",
       "</div>"
      ],
      "text/plain": [
       "   BHK   Rent  Size    Area Type Furnishing Status  Bathroom Point of Contact\n",
       "0    2  10000  1100   Super Area       Unfurnished         2    Contact Owner\n",
       "1    2  20000   800   Super Area    Semi-Furnished         1    Contact Owner\n",
       "2    2  17000  1000   Super Area    Semi-Furnished         1    Contact Owner\n",
       "3    2  10000   800   Super Area       Unfurnished         1    Contact Owner\n",
       "4    2   7500   850  Carpet Area       Unfurnished         1    Contact Owner"
      ]
     },
     "execution_count": 5,
     "metadata": {},
     "output_type": "execute_result"
    }
   ],
   "source": [
    "df = df.drop(['Posted On','Tenant Preferred','Area Locality','City','Floor'],axis = 1)\n",
    "df.head()"
   ]
  },
  {
   "cell_type": "code",
   "execution_count": 6,
   "id": "e7d6bb01-aa42-43b1-aa69-536b70662b12",
   "metadata": {},
   "outputs": [],
   "source": [
    "x = df.drop(['Rent'],axis=1)\n",
    "y=df['Rent']"
   ]
  },
  {
   "cell_type": "code",
   "execution_count": 7,
   "id": "09e73167-a4a9-45d0-be47-1dc44290a19b",
   "metadata": {},
   "outputs": [],
   "source": [
    "from sklearn.model_selection import train_test_split"
   ]
  },
  {
   "cell_type": "code",
   "execution_count": 8,
   "id": "67571a4b-7f55-4ab1-ab74-3a2d3a8b22e8",
   "metadata": {},
   "outputs": [
    {
     "data": {
      "text/html": [
       "<div>\n",
       "<style scoped>\n",
       "    .dataframe tbody tr th:only-of-type {\n",
       "        vertical-align: middle;\n",
       "    }\n",
       "\n",
       "    .dataframe tbody tr th {\n",
       "        vertical-align: top;\n",
       "    }\n",
       "\n",
       "    .dataframe thead th {\n",
       "        text-align: right;\n",
       "    }\n",
       "</style>\n",
       "<table border=\"1\" class=\"dataframe\">\n",
       "  <thead>\n",
       "    <tr style=\"text-align: right;\">\n",
       "      <th></th>\n",
       "      <th>BHK</th>\n",
       "      <th>Size</th>\n",
       "      <th>Area Type</th>\n",
       "      <th>Furnishing Status</th>\n",
       "      <th>Bathroom</th>\n",
       "      <th>Point of Contact</th>\n",
       "    </tr>\n",
       "  </thead>\n",
       "  <tbody>\n",
       "    <tr>\n",
       "      <th>3260</th>\n",
       "      <td>2</td>\n",
       "      <td>850</td>\n",
       "      <td>Super Area</td>\n",
       "      <td>Unfurnished</td>\n",
       "      <td>2</td>\n",
       "      <td>Contact Owner</td>\n",
       "    </tr>\n",
       "    <tr>\n",
       "      <th>155</th>\n",
       "      <td>2</td>\n",
       "      <td>700</td>\n",
       "      <td>Super Area</td>\n",
       "      <td>Unfurnished</td>\n",
       "      <td>2</td>\n",
       "      <td>Contact Owner</td>\n",
       "    </tr>\n",
       "    <tr>\n",
       "      <th>3228</th>\n",
       "      <td>2</td>\n",
       "      <td>1125</td>\n",
       "      <td>Super Area</td>\n",
       "      <td>Semi-Furnished</td>\n",
       "      <td>2</td>\n",
       "      <td>Contact Owner</td>\n",
       "    </tr>\n",
       "    <tr>\n",
       "      <th>1080</th>\n",
       "      <td>3</td>\n",
       "      <td>1233</td>\n",
       "      <td>Carpet Area</td>\n",
       "      <td>Semi-Furnished</td>\n",
       "      <td>4</td>\n",
       "      <td>Contact Agent</td>\n",
       "    </tr>\n",
       "    <tr>\n",
       "      <th>1476</th>\n",
       "      <td>4</td>\n",
       "      <td>2880</td>\n",
       "      <td>Carpet Area</td>\n",
       "      <td>Unfurnished</td>\n",
       "      <td>5</td>\n",
       "      <td>Contact Agent</td>\n",
       "    </tr>\n",
       "    <tr>\n",
       "      <th>...</th>\n",
       "      <td>...</td>\n",
       "      <td>...</td>\n",
       "      <td>...</td>\n",
       "      <td>...</td>\n",
       "      <td>...</td>\n",
       "      <td>...</td>\n",
       "    </tr>\n",
       "    <tr>\n",
       "      <th>3</th>\n",
       "      <td>2</td>\n",
       "      <td>800</td>\n",
       "      <td>Super Area</td>\n",
       "      <td>Unfurnished</td>\n",
       "      <td>1</td>\n",
       "      <td>Contact Owner</td>\n",
       "    </tr>\n",
       "    <tr>\n",
       "      <th>306</th>\n",
       "      <td>1</td>\n",
       "      <td>500</td>\n",
       "      <td>Super Area</td>\n",
       "      <td>Semi-Furnished</td>\n",
       "      <td>1</td>\n",
       "      <td>Contact Owner</td>\n",
       "    </tr>\n",
       "    <tr>\n",
       "      <th>4375</th>\n",
       "      <td>2</td>\n",
       "      <td>1200</td>\n",
       "      <td>Super Area</td>\n",
       "      <td>Unfurnished</td>\n",
       "      <td>2</td>\n",
       "      <td>Contact Owner</td>\n",
       "    </tr>\n",
       "    <tr>\n",
       "      <th>3047</th>\n",
       "      <td>3</td>\n",
       "      <td>1540</td>\n",
       "      <td>Carpet Area</td>\n",
       "      <td>Furnished</td>\n",
       "      <td>2</td>\n",
       "      <td>Contact Owner</td>\n",
       "    </tr>\n",
       "    <tr>\n",
       "      <th>806</th>\n",
       "      <td>1</td>\n",
       "      <td>600</td>\n",
       "      <td>Super Area</td>\n",
       "      <td>Semi-Furnished</td>\n",
       "      <td>1</td>\n",
       "      <td>Contact Owner</td>\n",
       "    </tr>\n",
       "  </tbody>\n",
       "</table>\n",
       "<p>3322 rows × 6 columns</p>\n",
       "</div>"
      ],
      "text/plain": [
       "      BHK  Size    Area Type Furnishing Status  Bathroom Point of Contact\n",
       "3260    2   850   Super Area       Unfurnished         2    Contact Owner\n",
       "155     2   700   Super Area       Unfurnished         2    Contact Owner\n",
       "3228    2  1125   Super Area    Semi-Furnished         2    Contact Owner\n",
       "1080    3  1233  Carpet Area    Semi-Furnished         4    Contact Agent\n",
       "1476    4  2880  Carpet Area       Unfurnished         5    Contact Agent\n",
       "...   ...   ...          ...               ...       ...              ...\n",
       "3       2   800   Super Area       Unfurnished         1    Contact Owner\n",
       "306     1   500   Super Area    Semi-Furnished         1    Contact Owner\n",
       "4375    2  1200   Super Area       Unfurnished         2    Contact Owner\n",
       "3047    3  1540  Carpet Area         Furnished         2    Contact Owner\n",
       "806     1   600   Super Area    Semi-Furnished         1    Contact Owner\n",
       "\n",
       "[3322 rows x 6 columns]"
      ]
     },
     "execution_count": 8,
     "metadata": {},
     "output_type": "execute_result"
    }
   ],
   "source": [
    "x_train , x_test , y_train , y_test = train_test_split(x,y,test_size=0.3)\n",
    "x_train"
   ]
  },
  {
   "cell_type": "code",
   "execution_count": 9,
   "id": "04f8d579-bb3a-4177-a4ad-66099030a48f",
   "metadata": {},
   "outputs": [],
   "source": [
    "x_train_1 = x_train.drop(['BHK','Size','Bathroom'],axis=1)"
   ]
  },
  {
   "cell_type": "code",
   "execution_count": 10,
   "id": "5816f2e8-89a0-4b49-ad05-59bd2ce31900",
   "metadata": {},
   "outputs": [],
   "source": [
    "x_test_1 = x_test.drop(['BHK','Size','Bathroom'],axis=1)"
   ]
  },
  {
   "cell_type": "code",
   "execution_count": 11,
   "id": "77c07c5e-fc23-4666-8228-d38a95c6fb1c",
   "metadata": {},
   "outputs": [],
   "source": [
    "from sklearn.compose import ColumnTransformer\n",
    "from sklearn.preprocessing import OneHotEncoder , OrdinalEncoder "
   ]
  },
  {
   "cell_type": "code",
   "execution_count": 12,
   "id": "c087a867-f49d-4580-b16b-7a993fcdeb6d",
   "metadata": {},
   "outputs": [],
   "source": [
    "trf = ColumnTransformer(transformers=\n",
    "    [('Area Type',OrdinalEncoder(categories=[[\"Built Area\",\"Carpet Area\",\"Super Area\"]]),[\"Area Type\"]),\n",
    "     ('Furnishing Status',OrdinalEncoder(categories=[[\"Unfurnished\",\"Semi-Furnished\",\"Furnished\"]]),[\"Furnishing Status\"]),\n",
    "     ('Point of Contact',OrdinalEncoder(categories=[[\"Contact Builder\",\"Contact Agent\",\"Contact Owner\"]]),[\"Point of Contact\"])],\n",
    "     remainder='passthrough')"
   ]
  },
  {
   "cell_type": "code",
   "execution_count": 13,
   "id": "c651014f-c0a1-4a13-a4b4-e0c7ef6a712b",
   "metadata": {},
   "outputs": [],
   "source": [
    "oe = OrdinalEncoder (categories=[[\"Built Area\",\"Carpet Area\",\"Super Area\"],\n",
    "                                 [\"Unfurnished\",\"Semi-Furnished\",\"Furnished\"],[\"Contact Builder\",\"Contact Agent\",\"Contact Owner\"]]) "
   ]
  },
  {
   "cell_type": "code",
   "execution_count": 14,
   "id": "6877549b-c442-4768-941f-9b229e1836a0",
   "metadata": {},
   "outputs": [],
   "source": [
    "# np.reshape(oe,(3,3))"
   ]
  },
  {
   "cell_type": "code",
   "execution_count": 15,
   "id": "3e4eca5a-0e5e-4003-9e95-d262ec464c0c",
   "metadata": {},
   "outputs": [],
   "source": [
    "# oe = OrdinalEncoder (categories=[[\"Built Area\",\"Carpet Area\",\"Super Area\"]]) "
   ]
  },
  {
   "cell_type": "code",
   "execution_count": 16,
   "id": "2a41d10d-3b68-4e85-b35b-74e4e7edc079",
   "metadata": {},
   "outputs": [
    {
     "data": {
      "text/html": [
       "<style>#sk-container-id-1 {color: black;background-color: white;}#sk-container-id-1 pre{padding: 0;}#sk-container-id-1 div.sk-toggleable {background-color: white;}#sk-container-id-1 label.sk-toggleable__label {cursor: pointer;display: block;width: 100%;margin-bottom: 0;padding: 0.3em;box-sizing: border-box;text-align: center;}#sk-container-id-1 label.sk-toggleable__label-arrow:before {content: \"▸\";float: left;margin-right: 0.25em;color: #696969;}#sk-container-id-1 label.sk-toggleable__label-arrow:hover:before {color: black;}#sk-container-id-1 div.sk-estimator:hover label.sk-toggleable__label-arrow:before {color: black;}#sk-container-id-1 div.sk-toggleable__content {max-height: 0;max-width: 0;overflow: hidden;text-align: left;background-color: #f0f8ff;}#sk-container-id-1 div.sk-toggleable__content pre {margin: 0.2em;color: black;border-radius: 0.25em;background-color: #f0f8ff;}#sk-container-id-1 input.sk-toggleable__control:checked~div.sk-toggleable__content {max-height: 200px;max-width: 100%;overflow: auto;}#sk-container-id-1 input.sk-toggleable__control:checked~label.sk-toggleable__label-arrow:before {content: \"▾\";}#sk-container-id-1 div.sk-estimator input.sk-toggleable__control:checked~label.sk-toggleable__label {background-color: #d4ebff;}#sk-container-id-1 div.sk-label input.sk-toggleable__control:checked~label.sk-toggleable__label {background-color: #d4ebff;}#sk-container-id-1 input.sk-hidden--visually {border: 0;clip: rect(1px 1px 1px 1px);clip: rect(1px, 1px, 1px, 1px);height: 1px;margin: -1px;overflow: hidden;padding: 0;position: absolute;width: 1px;}#sk-container-id-1 div.sk-estimator {font-family: monospace;background-color: #f0f8ff;border: 1px dotted black;border-radius: 0.25em;box-sizing: border-box;margin-bottom: 0.5em;}#sk-container-id-1 div.sk-estimator:hover {background-color: #d4ebff;}#sk-container-id-1 div.sk-parallel-item::after {content: \"\";width: 100%;border-bottom: 1px solid gray;flex-grow: 1;}#sk-container-id-1 div.sk-label:hover label.sk-toggleable__label {background-color: #d4ebff;}#sk-container-id-1 div.sk-serial::before {content: \"\";position: absolute;border-left: 1px solid gray;box-sizing: border-box;top: 0;bottom: 0;left: 50%;z-index: 0;}#sk-container-id-1 div.sk-serial {display: flex;flex-direction: column;align-items: center;background-color: white;padding-right: 0.2em;padding-left: 0.2em;position: relative;}#sk-container-id-1 div.sk-item {position: relative;z-index: 1;}#sk-container-id-1 div.sk-parallel {display: flex;align-items: stretch;justify-content: center;background-color: white;position: relative;}#sk-container-id-1 div.sk-item::before, #sk-container-id-1 div.sk-parallel-item::before {content: \"\";position: absolute;border-left: 1px solid gray;box-sizing: border-box;top: 0;bottom: 0;left: 50%;z-index: -1;}#sk-container-id-1 div.sk-parallel-item {display: flex;flex-direction: column;z-index: 1;position: relative;background-color: white;}#sk-container-id-1 div.sk-parallel-item:first-child::after {align-self: flex-end;width: 50%;}#sk-container-id-1 div.sk-parallel-item:last-child::after {align-self: flex-start;width: 50%;}#sk-container-id-1 div.sk-parallel-item:only-child::after {width: 0;}#sk-container-id-1 div.sk-dashed-wrapped {border: 1px dashed gray;margin: 0 0.4em 0.5em 0.4em;box-sizing: border-box;padding-bottom: 0.4em;background-color: white;}#sk-container-id-1 div.sk-label label {font-family: monospace;font-weight: bold;display: inline-block;line-height: 1.2em;}#sk-container-id-1 div.sk-label-container {text-align: center;}#sk-container-id-1 div.sk-container {/* jupyter's `normalize.less` sets `[hidden] { display: none; }` but bootstrap.min.css set `[hidden] { display: none !important; }` so we also need the `!important` here to be able to override the default hidden behavior on the sphinx rendered scikit-learn.org. See: https://github.com/scikit-learn/scikit-learn/issues/21755 */display: inline-block !important;position: relative;}#sk-container-id-1 div.sk-text-repr-fallback {display: none;}</style><div id=\"sk-container-id-1\" class=\"sk-top-container\"><div class=\"sk-text-repr-fallback\"><pre>OrdinalEncoder(categories=[[&#x27;Built Area&#x27;, &#x27;Carpet Area&#x27;, &#x27;Super Area&#x27;],\n",
       "                           [&#x27;Unfurnished&#x27;, &#x27;Semi-Furnished&#x27;, &#x27;Furnished&#x27;],\n",
       "                           [&#x27;Contact Builder&#x27;, &#x27;Contact Agent&#x27;,\n",
       "                            &#x27;Contact Owner&#x27;]])</pre><b>In a Jupyter environment, please rerun this cell to show the HTML representation or trust the notebook. <br />On GitHub, the HTML representation is unable to render, please try loading this page with nbviewer.org.</b></div><div class=\"sk-container\" hidden><div class=\"sk-item\"><div class=\"sk-estimator sk-toggleable\"><input class=\"sk-toggleable__control sk-hidden--visually\" id=\"sk-estimator-id-1\" type=\"checkbox\" checked><label for=\"sk-estimator-id-1\" class=\"sk-toggleable__label sk-toggleable__label-arrow\">OrdinalEncoder</label><div class=\"sk-toggleable__content\"><pre>OrdinalEncoder(categories=[[&#x27;Built Area&#x27;, &#x27;Carpet Area&#x27;, &#x27;Super Area&#x27;],\n",
       "                           [&#x27;Unfurnished&#x27;, &#x27;Semi-Furnished&#x27;, &#x27;Furnished&#x27;],\n",
       "                           [&#x27;Contact Builder&#x27;, &#x27;Contact Agent&#x27;,\n",
       "                            &#x27;Contact Owner&#x27;]])</pre></div></div></div></div></div>"
      ],
      "text/plain": [
       "OrdinalEncoder(categories=[['Built Area', 'Carpet Area', 'Super Area'],\n",
       "                           ['Unfurnished', 'Semi-Furnished', 'Furnished'],\n",
       "                           ['Contact Builder', 'Contact Agent',\n",
       "                            'Contact Owner']])"
      ]
     },
     "execution_count": 16,
     "metadata": {},
     "output_type": "execute_result"
    }
   ],
   "source": [
    "oe.fit(x_train_1)"
   ]
  },
  {
   "cell_type": "code",
   "execution_count": 17,
   "id": "19c8ba60-cfc1-4227-99e6-87a8efa43bdf",
   "metadata": {},
   "outputs": [
    {
     "data": {
      "text/plain": [
       "array([[2., 0., 2.],\n",
       "       [2., 0., 2.],\n",
       "       [2., 1., 2.],\n",
       "       ...,\n",
       "       [2., 0., 2.],\n",
       "       [1., 2., 2.],\n",
       "       [2., 1., 2.]])"
      ]
     },
     "execution_count": 17,
     "metadata": {},
     "output_type": "execute_result"
    }
   ],
   "source": [
    "oe.transform(x_train_1)"
   ]
  },
  {
   "cell_type": "code",
   "execution_count": 18,
   "id": "334206e2-c256-48c7-9aaf-ae16853433b9",
   "metadata": {},
   "outputs": [
    {
     "data": {
      "text/html": [
       "<style>#sk-container-id-2 {color: black;background-color: white;}#sk-container-id-2 pre{padding: 0;}#sk-container-id-2 div.sk-toggleable {background-color: white;}#sk-container-id-2 label.sk-toggleable__label {cursor: pointer;display: block;width: 100%;margin-bottom: 0;padding: 0.3em;box-sizing: border-box;text-align: center;}#sk-container-id-2 label.sk-toggleable__label-arrow:before {content: \"▸\";float: left;margin-right: 0.25em;color: #696969;}#sk-container-id-2 label.sk-toggleable__label-arrow:hover:before {color: black;}#sk-container-id-2 div.sk-estimator:hover label.sk-toggleable__label-arrow:before {color: black;}#sk-container-id-2 div.sk-toggleable__content {max-height: 0;max-width: 0;overflow: hidden;text-align: left;background-color: #f0f8ff;}#sk-container-id-2 div.sk-toggleable__content pre {margin: 0.2em;color: black;border-radius: 0.25em;background-color: #f0f8ff;}#sk-container-id-2 input.sk-toggleable__control:checked~div.sk-toggleable__content {max-height: 200px;max-width: 100%;overflow: auto;}#sk-container-id-2 input.sk-toggleable__control:checked~label.sk-toggleable__label-arrow:before {content: \"▾\";}#sk-container-id-2 div.sk-estimator input.sk-toggleable__control:checked~label.sk-toggleable__label {background-color: #d4ebff;}#sk-container-id-2 div.sk-label input.sk-toggleable__control:checked~label.sk-toggleable__label {background-color: #d4ebff;}#sk-container-id-2 input.sk-hidden--visually {border: 0;clip: rect(1px 1px 1px 1px);clip: rect(1px, 1px, 1px, 1px);height: 1px;margin: -1px;overflow: hidden;padding: 0;position: absolute;width: 1px;}#sk-container-id-2 div.sk-estimator {font-family: monospace;background-color: #f0f8ff;border: 1px dotted black;border-radius: 0.25em;box-sizing: border-box;margin-bottom: 0.5em;}#sk-container-id-2 div.sk-estimator:hover {background-color: #d4ebff;}#sk-container-id-2 div.sk-parallel-item::after {content: \"\";width: 100%;border-bottom: 1px solid gray;flex-grow: 1;}#sk-container-id-2 div.sk-label:hover label.sk-toggleable__label {background-color: #d4ebff;}#sk-container-id-2 div.sk-serial::before {content: \"\";position: absolute;border-left: 1px solid gray;box-sizing: border-box;top: 0;bottom: 0;left: 50%;z-index: 0;}#sk-container-id-2 div.sk-serial {display: flex;flex-direction: column;align-items: center;background-color: white;padding-right: 0.2em;padding-left: 0.2em;position: relative;}#sk-container-id-2 div.sk-item {position: relative;z-index: 1;}#sk-container-id-2 div.sk-parallel {display: flex;align-items: stretch;justify-content: center;background-color: white;position: relative;}#sk-container-id-2 div.sk-item::before, #sk-container-id-2 div.sk-parallel-item::before {content: \"\";position: absolute;border-left: 1px solid gray;box-sizing: border-box;top: 0;bottom: 0;left: 50%;z-index: -1;}#sk-container-id-2 div.sk-parallel-item {display: flex;flex-direction: column;z-index: 1;position: relative;background-color: white;}#sk-container-id-2 div.sk-parallel-item:first-child::after {align-self: flex-end;width: 50%;}#sk-container-id-2 div.sk-parallel-item:last-child::after {align-self: flex-start;width: 50%;}#sk-container-id-2 div.sk-parallel-item:only-child::after {width: 0;}#sk-container-id-2 div.sk-dashed-wrapped {border: 1px dashed gray;margin: 0 0.4em 0.5em 0.4em;box-sizing: border-box;padding-bottom: 0.4em;background-color: white;}#sk-container-id-2 div.sk-label label {font-family: monospace;font-weight: bold;display: inline-block;line-height: 1.2em;}#sk-container-id-2 div.sk-label-container {text-align: center;}#sk-container-id-2 div.sk-container {/* jupyter's `normalize.less` sets `[hidden] { display: none; }` but bootstrap.min.css set `[hidden] { display: none !important; }` so we also need the `!important` here to be able to override the default hidden behavior on the sphinx rendered scikit-learn.org. See: https://github.com/scikit-learn/scikit-learn/issues/21755 */display: inline-block !important;position: relative;}#sk-container-id-2 div.sk-text-repr-fallback {display: none;}</style><div id=\"sk-container-id-2\" class=\"sk-top-container\"><div class=\"sk-text-repr-fallback\"><pre>ColumnTransformer(remainder=&#x27;passthrough&#x27;,\n",
       "                  transformers=[(&#x27;Area Type&#x27;,\n",
       "                                 OrdinalEncoder(categories=[[&#x27;Built Area&#x27;,\n",
       "                                                             &#x27;Carpet Area&#x27;,\n",
       "                                                             &#x27;Super Area&#x27;]]),\n",
       "                                 [&#x27;Area Type&#x27;]),\n",
       "                                (&#x27;Furnishing Status&#x27;,\n",
       "                                 OrdinalEncoder(categories=[[&#x27;Unfurnished&#x27;,\n",
       "                                                             &#x27;Semi-Furnished&#x27;,\n",
       "                                                             &#x27;Furnished&#x27;]]),\n",
       "                                 [&#x27;Furnishing Status&#x27;]),\n",
       "                                (&#x27;Point of Contact&#x27;,\n",
       "                                 OrdinalEncoder(categories=[[&#x27;Contact Builder&#x27;,\n",
       "                                                             &#x27;Contact Agent&#x27;,\n",
       "                                                             &#x27;Contact Owner&#x27;]]),\n",
       "                                 [&#x27;Point of Contact&#x27;])])</pre><b>In a Jupyter environment, please rerun this cell to show the HTML representation or trust the notebook. <br />On GitHub, the HTML representation is unable to render, please try loading this page with nbviewer.org.</b></div><div class=\"sk-container\" hidden><div class=\"sk-item sk-dashed-wrapped\"><div class=\"sk-label-container\"><div class=\"sk-label sk-toggleable\"><input class=\"sk-toggleable__control sk-hidden--visually\" id=\"sk-estimator-id-2\" type=\"checkbox\" ><label for=\"sk-estimator-id-2\" class=\"sk-toggleable__label sk-toggleable__label-arrow\">ColumnTransformer</label><div class=\"sk-toggleable__content\"><pre>ColumnTransformer(remainder=&#x27;passthrough&#x27;,\n",
       "                  transformers=[(&#x27;Area Type&#x27;,\n",
       "                                 OrdinalEncoder(categories=[[&#x27;Built Area&#x27;,\n",
       "                                                             &#x27;Carpet Area&#x27;,\n",
       "                                                             &#x27;Super Area&#x27;]]),\n",
       "                                 [&#x27;Area Type&#x27;]),\n",
       "                                (&#x27;Furnishing Status&#x27;,\n",
       "                                 OrdinalEncoder(categories=[[&#x27;Unfurnished&#x27;,\n",
       "                                                             &#x27;Semi-Furnished&#x27;,\n",
       "                                                             &#x27;Furnished&#x27;]]),\n",
       "                                 [&#x27;Furnishing Status&#x27;]),\n",
       "                                (&#x27;Point of Contact&#x27;,\n",
       "                                 OrdinalEncoder(categories=[[&#x27;Contact Builder&#x27;,\n",
       "                                                             &#x27;Contact Agent&#x27;,\n",
       "                                                             &#x27;Contact Owner&#x27;]]),\n",
       "                                 [&#x27;Point of Contact&#x27;])])</pre></div></div></div><div class=\"sk-parallel\"><div class=\"sk-parallel-item\"><div class=\"sk-item\"><div class=\"sk-label-container\"><div class=\"sk-label sk-toggleable\"><input class=\"sk-toggleable__control sk-hidden--visually\" id=\"sk-estimator-id-3\" type=\"checkbox\" ><label for=\"sk-estimator-id-3\" class=\"sk-toggleable__label sk-toggleable__label-arrow\">Area Type</label><div class=\"sk-toggleable__content\"><pre>[&#x27;Area Type&#x27;]</pre></div></div></div><div class=\"sk-serial\"><div class=\"sk-item\"><div class=\"sk-estimator sk-toggleable\"><input class=\"sk-toggleable__control sk-hidden--visually\" id=\"sk-estimator-id-4\" type=\"checkbox\" ><label for=\"sk-estimator-id-4\" class=\"sk-toggleable__label sk-toggleable__label-arrow\">OrdinalEncoder</label><div class=\"sk-toggleable__content\"><pre>OrdinalEncoder(categories=[[&#x27;Built Area&#x27;, &#x27;Carpet Area&#x27;, &#x27;Super Area&#x27;]])</pre></div></div></div></div></div></div><div class=\"sk-parallel-item\"><div class=\"sk-item\"><div class=\"sk-label-container\"><div class=\"sk-label sk-toggleable\"><input class=\"sk-toggleable__control sk-hidden--visually\" id=\"sk-estimator-id-5\" type=\"checkbox\" ><label for=\"sk-estimator-id-5\" class=\"sk-toggleable__label sk-toggleable__label-arrow\">Furnishing Status</label><div class=\"sk-toggleable__content\"><pre>[&#x27;Furnishing Status&#x27;]</pre></div></div></div><div class=\"sk-serial\"><div class=\"sk-item\"><div class=\"sk-estimator sk-toggleable\"><input class=\"sk-toggleable__control sk-hidden--visually\" id=\"sk-estimator-id-6\" type=\"checkbox\" ><label for=\"sk-estimator-id-6\" class=\"sk-toggleable__label sk-toggleable__label-arrow\">OrdinalEncoder</label><div class=\"sk-toggleable__content\"><pre>OrdinalEncoder(categories=[[&#x27;Unfurnished&#x27;, &#x27;Semi-Furnished&#x27;, &#x27;Furnished&#x27;]])</pre></div></div></div></div></div></div><div class=\"sk-parallel-item\"><div class=\"sk-item\"><div class=\"sk-label-container\"><div class=\"sk-label sk-toggleable\"><input class=\"sk-toggleable__control sk-hidden--visually\" id=\"sk-estimator-id-7\" type=\"checkbox\" ><label for=\"sk-estimator-id-7\" class=\"sk-toggleable__label sk-toggleable__label-arrow\">Point of Contact</label><div class=\"sk-toggleable__content\"><pre>[&#x27;Point of Contact&#x27;]</pre></div></div></div><div class=\"sk-serial\"><div class=\"sk-item\"><div class=\"sk-estimator sk-toggleable\"><input class=\"sk-toggleable__control sk-hidden--visually\" id=\"sk-estimator-id-8\" type=\"checkbox\" ><label for=\"sk-estimator-id-8\" class=\"sk-toggleable__label sk-toggleable__label-arrow\">OrdinalEncoder</label><div class=\"sk-toggleable__content\"><pre>OrdinalEncoder(categories=[[&#x27;Contact Builder&#x27;, &#x27;Contact Agent&#x27;,\n",
       "                            &#x27;Contact Owner&#x27;]])</pre></div></div></div></div></div></div><div class=\"sk-parallel-item\"><div class=\"sk-item\"><div class=\"sk-label-container\"><div class=\"sk-label sk-toggleable\"><input class=\"sk-toggleable__control sk-hidden--visually\" id=\"sk-estimator-id-9\" type=\"checkbox\" ><label for=\"sk-estimator-id-9\" class=\"sk-toggleable__label sk-toggleable__label-arrow\">remainder</label><div class=\"sk-toggleable__content\"><pre>[&#x27;BHK&#x27;, &#x27;Size&#x27;, &#x27;Bathroom&#x27;]</pre></div></div></div><div class=\"sk-serial\"><div class=\"sk-item\"><div class=\"sk-estimator sk-toggleable\"><input class=\"sk-toggleable__control sk-hidden--visually\" id=\"sk-estimator-id-10\" type=\"checkbox\" ><label for=\"sk-estimator-id-10\" class=\"sk-toggleable__label sk-toggleable__label-arrow\">passthrough</label><div class=\"sk-toggleable__content\"><pre>passthrough</pre></div></div></div></div></div></div></div></div></div></div>"
      ],
      "text/plain": [
       "ColumnTransformer(remainder='passthrough',\n",
       "                  transformers=[('Area Type',\n",
       "                                 OrdinalEncoder(categories=[['Built Area',\n",
       "                                                             'Carpet Area',\n",
       "                                                             'Super Area']]),\n",
       "                                 ['Area Type']),\n",
       "                                ('Furnishing Status',\n",
       "                                 OrdinalEncoder(categories=[['Unfurnished',\n",
       "                                                             'Semi-Furnished',\n",
       "                                                             'Furnished']]),\n",
       "                                 ['Furnishing Status']),\n",
       "                                ('Point of Contact',\n",
       "                                 OrdinalEncoder(categories=[['Contact Builder',\n",
       "                                                             'Contact Agent',\n",
       "                                                             'Contact Owner']]),\n",
       "                                 ['Point of Contact'])])"
      ]
     },
     "execution_count": 18,
     "metadata": {},
     "output_type": "execute_result"
    }
   ],
   "source": [
    "trf.fit(x_train)"
   ]
  },
  {
   "cell_type": "code",
   "execution_count": 19,
   "id": "22848392-ecc0-4188-a6ca-e82a5e0e3217",
   "metadata": {},
   "outputs": [],
   "source": [
    "x_train_trans = trf.fit_transform(x_train)"
   ]
  },
  {
   "cell_type": "code",
   "execution_count": 20,
   "id": "75970456-1970-44e1-8f78-d88f9b701419",
   "metadata": {},
   "outputs": [
    {
     "data": {
      "text/plain": [
       "array([[2.000e+00, 0.000e+00, 2.000e+00, 2.000e+00, 8.500e+02, 2.000e+00],\n",
       "       [2.000e+00, 0.000e+00, 2.000e+00, 2.000e+00, 7.000e+02, 2.000e+00],\n",
       "       [2.000e+00, 1.000e+00, 2.000e+00, 2.000e+00, 1.125e+03, 2.000e+00],\n",
       "       ...,\n",
       "       [2.000e+00, 0.000e+00, 2.000e+00, 2.000e+00, 1.200e+03, 2.000e+00],\n",
       "       [1.000e+00, 2.000e+00, 2.000e+00, 3.000e+00, 1.540e+03, 2.000e+00],\n",
       "       [2.000e+00, 1.000e+00, 2.000e+00, 1.000e+00, 6.000e+02, 1.000e+00]])"
      ]
     },
     "execution_count": 20,
     "metadata": {},
     "output_type": "execute_result"
    }
   ],
   "source": [
    "x_train_trans "
   ]
  },
  {
   "cell_type": "code",
   "execution_count": 21,
   "id": "88db30aa-459f-4b0b-81d5-1895ab981cf4",
   "metadata": {},
   "outputs": [],
   "source": [
    "x_test_trans = trf.fit_transform(x_test)"
   ]
  },
  {
   "cell_type": "code",
   "execution_count": 22,
   "id": "49ba3717-31f0-4a40-bfa7-5548a10e77f0",
   "metadata": {},
   "outputs": [
    {
     "data": {
      "text/plain": [
       "array([[1.000e+00, 1.000e+00, 1.000e+00, 5.000e+00, 3.000e+03, 5.000e+00],\n",
       "       [1.000e+00, 0.000e+00, 1.000e+00, 2.000e+00, 9.000e+02, 2.000e+00],\n",
       "       [2.000e+00, 2.000e+00, 2.000e+00, 1.000e+00, 5.650e+02, 2.000e+00],\n",
       "       ...,\n",
       "       [1.000e+00, 1.000e+00, 1.000e+00, 3.000e+00, 1.496e+03, 2.000e+00],\n",
       "       [1.000e+00, 1.000e+00, 1.000e+00, 3.000e+00, 1.750e+03, 4.000e+00],\n",
       "       [2.000e+00, 2.000e+00, 2.000e+00, 2.000e+00, 6.700e+02, 2.000e+00]])"
      ]
     },
     "execution_count": 22,
     "metadata": {},
     "output_type": "execute_result"
    }
   ],
   "source": [
    "x_test_trans "
   ]
  },
  {
   "cell_type": "code",
   "execution_count": 23,
   "id": "a6231a6c-683a-4793-9722-11c268b60484",
   "metadata": {},
   "outputs": [],
   "source": [
    "import xgboost as xgb \n",
    "from sklearn.metrics import mean_absolute_error , r2_score"
   ]
  },
  {
   "cell_type": "code",
   "execution_count": 24,
   "id": "0938da77-a6b1-421c-93ee-9bca8a19955c",
   "metadata": {},
   "outputs": [],
   "source": [
    "regr = xgb.XGBRegressor(tree_method = 'hist' , eval_metric = mean_absolute_error )"
   ]
  },
  {
   "cell_type": "code",
   "execution_count": 25,
   "id": "eeea7fdc-c136-4663-9c18-4fc7be8e2ace",
   "metadata": {},
   "outputs": [
    {
     "name": "stdout",
     "output_type": "stream",
     "text": [
      "[0]\tvalidation_0-rmse:72505.25348\tvalidation_0-mean_absolute_error:25175.61523\n",
      "[1]\tvalidation_0-rmse:65299.76971\tvalidation_0-mean_absolute_error:21026.70117\n",
      "[2]\tvalidation_0-rmse:60485.83070\tvalidation_0-mean_absolute_error:18472.03125\n",
      "[3]\tvalidation_0-rmse:57448.22242\tvalidation_0-mean_absolute_error:16858.62695\n",
      "[4]\tvalidation_0-rmse:55567.07019\tvalidation_0-mean_absolute_error:15878.01758\n",
      "[5]\tvalidation_0-rmse:54069.27251\tvalidation_0-mean_absolute_error:15258.26367\n",
      "[6]\tvalidation_0-rmse:53116.65272\tvalidation_0-mean_absolute_error:14891.52637\n",
      "[7]\tvalidation_0-rmse:52437.49361\tvalidation_0-mean_absolute_error:14566.74023\n",
      "[8]\tvalidation_0-rmse:52047.83261\tvalidation_0-mean_absolute_error:14309.27637\n",
      "[9]\tvalidation_0-rmse:51671.97051\tvalidation_0-mean_absolute_error:14120.18945\n",
      "[10]\tvalidation_0-rmse:51353.92991\tvalidation_0-mean_absolute_error:14003.87207\n",
      "[11]\tvalidation_0-rmse:51020.42903\tvalidation_0-mean_absolute_error:13809.26465\n",
      "[12]\tvalidation_0-rmse:50827.68463\tvalidation_0-mean_absolute_error:13723.62402\n",
      "[13]\tvalidation_0-rmse:50674.94718\tvalidation_0-mean_absolute_error:13641.41113\n",
      "[14]\tvalidation_0-rmse:50546.66499\tvalidation_0-mean_absolute_error:13589.68652\n",
      "[15]\tvalidation_0-rmse:50493.38491\tvalidation_0-mean_absolute_error:13546.29297\n",
      "[16]\tvalidation_0-rmse:50449.35242\tvalidation_0-mean_absolute_error:13490.47559\n",
      "[17]\tvalidation_0-rmse:50420.71362\tvalidation_0-mean_absolute_error:13445.17773\n",
      "[18]\tvalidation_0-rmse:50185.61419\tvalidation_0-mean_absolute_error:13358.19531\n",
      "[19]\tvalidation_0-rmse:50163.78543\tvalidation_0-mean_absolute_error:13340.31836\n",
      "[20]\tvalidation_0-rmse:50074.04872\tvalidation_0-mean_absolute_error:13247.06152\n",
      "[21]\tvalidation_0-rmse:50058.11297\tvalidation_0-mean_absolute_error:13225.84961\n",
      "[22]\tvalidation_0-rmse:49915.21003\tvalidation_0-mean_absolute_error:13098.65820\n",
      "[23]\tvalidation_0-rmse:49831.06250\tvalidation_0-mean_absolute_error:13022.08887\n",
      "[24]\tvalidation_0-rmse:49631.78851\tvalidation_0-mean_absolute_error:12930.11816\n",
      "[25]\tvalidation_0-rmse:49526.28999\tvalidation_0-mean_absolute_error:12884.16406\n",
      "[26]\tvalidation_0-rmse:49495.19730\tvalidation_0-mean_absolute_error:12826.07129\n",
      "[27]\tvalidation_0-rmse:49475.67472\tvalidation_0-mean_absolute_error:12770.31348\n",
      "[28]\tvalidation_0-rmse:49409.97786\tvalidation_0-mean_absolute_error:12739.47754\n",
      "[29]\tvalidation_0-rmse:49400.70397\tvalidation_0-mean_absolute_error:12719.07324\n",
      "[30]\tvalidation_0-rmse:49376.82647\tvalidation_0-mean_absolute_error:12709.16602\n",
      "[31]\tvalidation_0-rmse:49334.97579\tvalidation_0-mean_absolute_error:12679.87695\n",
      "[32]\tvalidation_0-rmse:49235.81568\tvalidation_0-mean_absolute_error:12587.98633\n",
      "[33]\tvalidation_0-rmse:49230.80748\tvalidation_0-mean_absolute_error:12568.12305\n",
      "[34]\tvalidation_0-rmse:49196.37952\tvalidation_0-mean_absolute_error:12539.64746\n",
      "[35]\tvalidation_0-rmse:49194.36845\tvalidation_0-mean_absolute_error:12534.35547\n",
      "[36]\tvalidation_0-rmse:49165.39339\tvalidation_0-mean_absolute_error:12504.89258\n",
      "[37]\tvalidation_0-rmse:49119.82362\tvalidation_0-mean_absolute_error:12447.33887\n",
      "[38]\tvalidation_0-rmse:49100.24590\tvalidation_0-mean_absolute_error:12433.14160\n",
      "[39]\tvalidation_0-rmse:49045.75699\tvalidation_0-mean_absolute_error:12391.92773\n",
      "[40]\tvalidation_0-rmse:48999.25634\tvalidation_0-mean_absolute_error:12337.00195\n",
      "[41]\tvalidation_0-rmse:48945.97568\tvalidation_0-mean_absolute_error:12280.84082\n",
      "[42]\tvalidation_0-rmse:48945.05027\tvalidation_0-mean_absolute_error:12273.29394\n",
      "[43]\tvalidation_0-rmse:48920.34869\tvalidation_0-mean_absolute_error:12248.49512\n",
      "[44]\tvalidation_0-rmse:48890.01697\tvalidation_0-mean_absolute_error:12207.91211\n",
      "[45]\tvalidation_0-rmse:48854.96274\tvalidation_0-mean_absolute_error:12171.27539\n",
      "[46]\tvalidation_0-rmse:48825.43725\tvalidation_0-mean_absolute_error:12113.70215\n",
      "[47]\tvalidation_0-rmse:48780.10169\tvalidation_0-mean_absolute_error:12057.61133\n",
      "[48]\tvalidation_0-rmse:48763.41076\tvalidation_0-mean_absolute_error:12037.29590\n",
      "[49]\tvalidation_0-rmse:48753.27039\tvalidation_0-mean_absolute_error:12024.44922\n",
      "[50]\tvalidation_0-rmse:48731.94074\tvalidation_0-mean_absolute_error:11995.53027\n",
      "[51]\tvalidation_0-rmse:48729.05413\tvalidation_0-mean_absolute_error:11972.79981\n",
      "[52]\tvalidation_0-rmse:48725.19645\tvalidation_0-mean_absolute_error:11963.11816\n",
      "[53]\tvalidation_0-rmse:48670.54640\tvalidation_0-mean_absolute_error:11900.93164\n",
      "[54]\tvalidation_0-rmse:48636.85382\tvalidation_0-mean_absolute_error:11858.44238\n",
      "[55]\tvalidation_0-rmse:48619.56870\tvalidation_0-mean_absolute_error:11837.80566\n",
      "[56]\tvalidation_0-rmse:48587.05327\tvalidation_0-mean_absolute_error:11795.22656\n",
      "[57]\tvalidation_0-rmse:48560.83932\tvalidation_0-mean_absolute_error:11748.63477\n",
      "[58]\tvalidation_0-rmse:48532.59636\tvalidation_0-mean_absolute_error:11729.25684\n",
      "[59]\tvalidation_0-rmse:48526.78970\tvalidation_0-mean_absolute_error:11721.57617\n",
      "[60]\tvalidation_0-rmse:48520.00578\tvalidation_0-mean_absolute_error:11687.32129\n",
      "[61]\tvalidation_0-rmse:48492.10839\tvalidation_0-mean_absolute_error:11652.38281\n",
      "[62]\tvalidation_0-rmse:48453.88988\tvalidation_0-mean_absolute_error:11626.66602\n",
      "[63]\tvalidation_0-rmse:48430.50905\tvalidation_0-mean_absolute_error:11600.11816\n",
      "[64]\tvalidation_0-rmse:48415.96546\tvalidation_0-mean_absolute_error:11582.18652\n",
      "[65]\tvalidation_0-rmse:48412.43719\tvalidation_0-mean_absolute_error:11574.78906\n",
      "[66]\tvalidation_0-rmse:48409.26937\tvalidation_0-mean_absolute_error:11565.54883\n",
      "[67]\tvalidation_0-rmse:48407.83638\tvalidation_0-mean_absolute_error:11554.83203\n",
      "[68]\tvalidation_0-rmse:48406.41799\tvalidation_0-mean_absolute_error:11541.62988\n",
      "[69]\tvalidation_0-rmse:48370.42408\tvalidation_0-mean_absolute_error:11510.31445\n",
      "[70]\tvalidation_0-rmse:48365.43408\tvalidation_0-mean_absolute_error:11498.91113\n",
      "[71]\tvalidation_0-rmse:48351.85578\tvalidation_0-mean_absolute_error:11483.54492\n",
      "[72]\tvalidation_0-rmse:48314.46313\tvalidation_0-mean_absolute_error:11452.07617\n",
      "[73]\tvalidation_0-rmse:48293.75989\tvalidation_0-mean_absolute_error:11421.38867\n",
      "[74]\tvalidation_0-rmse:48244.47661\tvalidation_0-mean_absolute_error:11377.91211\n",
      "[75]\tvalidation_0-rmse:48236.02733\tvalidation_0-mean_absolute_error:11356.63477\n",
      "[76]\tvalidation_0-rmse:48210.34354\tvalidation_0-mean_absolute_error:11323.19238\n",
      "[77]\tvalidation_0-rmse:48203.24272\tvalidation_0-mean_absolute_error:11296.09668\n",
      "[78]\tvalidation_0-rmse:48191.08673\tvalidation_0-mean_absolute_error:11272.49121\n",
      "[79]\tvalidation_0-rmse:48181.45505\tvalidation_0-mean_absolute_error:11247.11426\n",
      "[80]\tvalidation_0-rmse:48163.70868\tvalidation_0-mean_absolute_error:11217.32227\n",
      "[81]\tvalidation_0-rmse:48134.06052\tvalidation_0-mean_absolute_error:11188.83594\n",
      "[82]\tvalidation_0-rmse:48133.26755\tvalidation_0-mean_absolute_error:11185.33691\n",
      "[83]\tvalidation_0-rmse:48131.88973\tvalidation_0-mean_absolute_error:11175.02930\n",
      "[84]\tvalidation_0-rmse:48125.99086\tvalidation_0-mean_absolute_error:11164.96777\n",
      "[85]\tvalidation_0-rmse:48118.98586\tvalidation_0-mean_absolute_error:11145.77832\n",
      "[86]\tvalidation_0-rmse:48113.40169\tvalidation_0-mean_absolute_error:11129.87402\n",
      "[87]\tvalidation_0-rmse:48104.01256\tvalidation_0-mean_absolute_error:11115.15918\n",
      "[88]\tvalidation_0-rmse:48098.85559\tvalidation_0-mean_absolute_error:11107.75098\n",
      "[89]\tvalidation_0-rmse:48084.11265\tvalidation_0-mean_absolute_error:11087.37109\n",
      "[90]\tvalidation_0-rmse:48067.21984\tvalidation_0-mean_absolute_error:11065.70898\n",
      "[91]\tvalidation_0-rmse:48064.22400\tvalidation_0-mean_absolute_error:11055.29199\n",
      "[92]\tvalidation_0-rmse:48051.57794\tvalidation_0-mean_absolute_error:11034.53418\n",
      "[93]\tvalidation_0-rmse:48038.64276\tvalidation_0-mean_absolute_error:11016.19238\n",
      "[94]\tvalidation_0-rmse:48021.22743\tvalidation_0-mean_absolute_error:10993.87793\n",
      "[95]\tvalidation_0-rmse:48009.38831\tvalidation_0-mean_absolute_error:10972.85938\n",
      "[96]\tvalidation_0-rmse:48006.04407\tvalidation_0-mean_absolute_error:10963.89356\n",
      "[97]\tvalidation_0-rmse:48001.99117\tvalidation_0-mean_absolute_error:10944.55273\n",
      "[98]\tvalidation_0-rmse:48001.35521\tvalidation_0-mean_absolute_error:10940.91016\n",
      "[99]\tvalidation_0-rmse:47998.37329\tvalidation_0-mean_absolute_error:10924.32519\n"
     ]
    },
    {
     "data": {
      "text/html": [
       "<style>#sk-container-id-3 {color: black;background-color: white;}#sk-container-id-3 pre{padding: 0;}#sk-container-id-3 div.sk-toggleable {background-color: white;}#sk-container-id-3 label.sk-toggleable__label {cursor: pointer;display: block;width: 100%;margin-bottom: 0;padding: 0.3em;box-sizing: border-box;text-align: center;}#sk-container-id-3 label.sk-toggleable__label-arrow:before {content: \"▸\";float: left;margin-right: 0.25em;color: #696969;}#sk-container-id-3 label.sk-toggleable__label-arrow:hover:before {color: black;}#sk-container-id-3 div.sk-estimator:hover label.sk-toggleable__label-arrow:before {color: black;}#sk-container-id-3 div.sk-toggleable__content {max-height: 0;max-width: 0;overflow: hidden;text-align: left;background-color: #f0f8ff;}#sk-container-id-3 div.sk-toggleable__content pre {margin: 0.2em;color: black;border-radius: 0.25em;background-color: #f0f8ff;}#sk-container-id-3 input.sk-toggleable__control:checked~div.sk-toggleable__content {max-height: 200px;max-width: 100%;overflow: auto;}#sk-container-id-3 input.sk-toggleable__control:checked~label.sk-toggleable__label-arrow:before {content: \"▾\";}#sk-container-id-3 div.sk-estimator input.sk-toggleable__control:checked~label.sk-toggleable__label {background-color: #d4ebff;}#sk-container-id-3 div.sk-label input.sk-toggleable__control:checked~label.sk-toggleable__label {background-color: #d4ebff;}#sk-container-id-3 input.sk-hidden--visually {border: 0;clip: rect(1px 1px 1px 1px);clip: rect(1px, 1px, 1px, 1px);height: 1px;margin: -1px;overflow: hidden;padding: 0;position: absolute;width: 1px;}#sk-container-id-3 div.sk-estimator {font-family: monospace;background-color: #f0f8ff;border: 1px dotted black;border-radius: 0.25em;box-sizing: border-box;margin-bottom: 0.5em;}#sk-container-id-3 div.sk-estimator:hover {background-color: #d4ebff;}#sk-container-id-3 div.sk-parallel-item::after {content: \"\";width: 100%;border-bottom: 1px solid gray;flex-grow: 1;}#sk-container-id-3 div.sk-label:hover label.sk-toggleable__label {background-color: #d4ebff;}#sk-container-id-3 div.sk-serial::before {content: \"\";position: absolute;border-left: 1px solid gray;box-sizing: border-box;top: 0;bottom: 0;left: 50%;z-index: 0;}#sk-container-id-3 div.sk-serial {display: flex;flex-direction: column;align-items: center;background-color: white;padding-right: 0.2em;padding-left: 0.2em;position: relative;}#sk-container-id-3 div.sk-item {position: relative;z-index: 1;}#sk-container-id-3 div.sk-parallel {display: flex;align-items: stretch;justify-content: center;background-color: white;position: relative;}#sk-container-id-3 div.sk-item::before, #sk-container-id-3 div.sk-parallel-item::before {content: \"\";position: absolute;border-left: 1px solid gray;box-sizing: border-box;top: 0;bottom: 0;left: 50%;z-index: -1;}#sk-container-id-3 div.sk-parallel-item {display: flex;flex-direction: column;z-index: 1;position: relative;background-color: white;}#sk-container-id-3 div.sk-parallel-item:first-child::after {align-self: flex-end;width: 50%;}#sk-container-id-3 div.sk-parallel-item:last-child::after {align-self: flex-start;width: 50%;}#sk-container-id-3 div.sk-parallel-item:only-child::after {width: 0;}#sk-container-id-3 div.sk-dashed-wrapped {border: 1px dashed gray;margin: 0 0.4em 0.5em 0.4em;box-sizing: border-box;padding-bottom: 0.4em;background-color: white;}#sk-container-id-3 div.sk-label label {font-family: monospace;font-weight: bold;display: inline-block;line-height: 1.2em;}#sk-container-id-3 div.sk-label-container {text-align: center;}#sk-container-id-3 div.sk-container {/* jupyter's `normalize.less` sets `[hidden] { display: none; }` but bootstrap.min.css set `[hidden] { display: none !important; }` so we also need the `!important` here to be able to override the default hidden behavior on the sphinx rendered scikit-learn.org. See: https://github.com/scikit-learn/scikit-learn/issues/21755 */display: inline-block !important;position: relative;}#sk-container-id-3 div.sk-text-repr-fallback {display: none;}</style><div id=\"sk-container-id-3\" class=\"sk-top-container\"><div class=\"sk-text-repr-fallback\"><pre>XGBRegressor(base_score=None, booster=None, callbacks=None,\n",
       "             colsample_bylevel=None, colsample_bynode=None,\n",
       "             colsample_bytree=None, device=None, early_stopping_rounds=None,\n",
       "             enable_categorical=False,\n",
       "             eval_metric=&lt;function mean_absolute_error at 0x000002023A757420&gt;,\n",
       "             feature_types=None, gamma=None, grow_policy=None,\n",
       "             importance_type=None, interaction_constraints=None,\n",
       "             learning_rate=None, max_bin=None, max_cat_threshold=None,\n",
       "             max_cat_to_onehot=None, max_delta_step=None, max_depth=None,\n",
       "             max_leaves=None, min_child_weight=None, missing=nan,\n",
       "             monotone_constraints=None, multi_strategy=None, n_estimators=None,\n",
       "             n_jobs=None, num_parallel_tree=None, random_state=None, ...)</pre><b>In a Jupyter environment, please rerun this cell to show the HTML representation or trust the notebook. <br />On GitHub, the HTML representation is unable to render, please try loading this page with nbviewer.org.</b></div><div class=\"sk-container\" hidden><div class=\"sk-item\"><div class=\"sk-estimator sk-toggleable\"><input class=\"sk-toggleable__control sk-hidden--visually\" id=\"sk-estimator-id-11\" type=\"checkbox\" checked><label for=\"sk-estimator-id-11\" class=\"sk-toggleable__label sk-toggleable__label-arrow\">XGBRegressor</label><div class=\"sk-toggleable__content\"><pre>XGBRegressor(base_score=None, booster=None, callbacks=None,\n",
       "             colsample_bylevel=None, colsample_bynode=None,\n",
       "             colsample_bytree=None, device=None, early_stopping_rounds=None,\n",
       "             enable_categorical=False,\n",
       "             eval_metric=&lt;function mean_absolute_error at 0x000002023A757420&gt;,\n",
       "             feature_types=None, gamma=None, grow_policy=None,\n",
       "             importance_type=None, interaction_constraints=None,\n",
       "             learning_rate=None, max_bin=None, max_cat_threshold=None,\n",
       "             max_cat_to_onehot=None, max_delta_step=None, max_depth=None,\n",
       "             max_leaves=None, min_child_weight=None, missing=nan,\n",
       "             monotone_constraints=None, multi_strategy=None, n_estimators=None,\n",
       "             n_jobs=None, num_parallel_tree=None, random_state=None, ...)</pre></div></div></div></div></div>"
      ],
      "text/plain": [
       "XGBRegressor(base_score=None, booster=None, callbacks=None,\n",
       "             colsample_bylevel=None, colsample_bynode=None,\n",
       "             colsample_bytree=None, device=None, early_stopping_rounds=None,\n",
       "             enable_categorical=False,\n",
       "             eval_metric=<function mean_absolute_error at 0x000002023A757420>,\n",
       "             feature_types=None, gamma=None, grow_policy=None,\n",
       "             importance_type=None, interaction_constraints=None,\n",
       "             learning_rate=None, max_bin=None, max_cat_threshold=None,\n",
       "             max_cat_to_onehot=None, max_delta_step=None, max_depth=None,\n",
       "             max_leaves=None, min_child_weight=None, missing=nan,\n",
       "             monotone_constraints=None, multi_strategy=None, n_estimators=None,\n",
       "             n_jobs=None, num_parallel_tree=None, random_state=None, ...)"
      ]
     },
     "execution_count": 25,
     "metadata": {},
     "output_type": "execute_result"
    }
   ],
   "source": [
    "regr.fit(x_train_trans,y_train,eval_set=[(x_train_trans,y_train)])"
   ]
  },
  {
   "cell_type": "code",
   "execution_count": 26,
   "id": "296f65c2-3968-4b50-b3b8-138d95d6a110",
   "metadata": {},
   "outputs": [],
   "source": [
    "y_predict = regr.predict(x_test_trans) "
   ]
  },
  {
   "cell_type": "code",
   "execution_count": 27,
   "id": "c84dd362-ed7a-45ab-a555-3f245bc96358",
   "metadata": {},
   "outputs": [
    {
     "data": {
      "text/plain": [
       "17649.5997496187"
      ]
     },
     "execution_count": 27,
     "metadata": {},
     "output_type": "execute_result"
    }
   ],
   "source": [
    "mean_absolute_error(y_test,y_predict)"
   ]
  },
  {
   "cell_type": "code",
   "execution_count": 28,
   "id": "37f84f0e-b675-4c28-8c59-3bf3009d0e38",
   "metadata": {},
   "outputs": [
    {
     "data": {
      "text/plain": [
       "0.06180322779566583"
      ]
     },
     "execution_count": 28,
     "metadata": {},
     "output_type": "execute_result"
    }
   ],
   "source": [
    "r2_score(y_test,y_predict)"
   ]
  },
  {
   "cell_type": "code",
   "execution_count": null,
   "id": "781b8a63-23d8-42f9-90f1-d3cde9060062",
   "metadata": {},
   "outputs": [],
   "source": []
  }
 ],
 "metadata": {
  "kernelspec": {
   "display_name": "Python 3 (ipykernel)",
   "language": "python",
   "name": "python3"
  },
  "language_info": {
   "codemirror_mode": {
    "name": "ipython",
    "version": 3
   },
   "file_extension": ".py",
   "mimetype": "text/x-python",
   "name": "python",
   "nbconvert_exporter": "python",
   "pygments_lexer": "ipython3",
   "version": "3.11.7"
  }
 },
 "nbformat": 4,
 "nbformat_minor": 5
}
